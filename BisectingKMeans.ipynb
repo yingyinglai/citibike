{
 "cells": [
  {
   "cell_type": "code",
   "execution_count": 153,
   "metadata": {
    "collapsed": false
   },
   "outputs": [],
   "source": [
    "from pyspark.sql.types import *\n",
    "from pyspark.sql.functions import *\n",
    "\n",
    "from pyspark.ml import evaluation\n",
    "from pyspark.ml.clustering import BisectingKMeans\n",
    "from pyspark.ml.feature import VectorAssembler, StringIndexer, VectorIndexer, MinMaxScaler"
   ]
  },
  {
   "cell_type": "code",
   "execution_count": 154,
   "metadata": {
    "collapsed": false
   },
   "outputs": [
    {
     "data": {
      "text/plain": [
       "[Row(Trip Duration=u'680', Start Time=u'2017-01-01 00:00:21', Stop Time=u'2017-01-01 00:11:41', Start Station ID=u'3226', Start Station Name=u'W 82 St & Central Park West', Start Station Latitude=u'40.78275', Start Station Longitude=u'-73.97137', End Station ID=u'3165', End Station Name=u'Central Park West & W 72 St', End Station Latitude=u'40.77579376683666', End Station Longitude=u'-73.9762057363987', Bike ID=u'25542', User Type=u'Subscriber', Birth Year=u'1965', Gender=u'2'),\n",
       " Row(Trip Duration=u'1282', Start Time=u'2017-01-01 00:00:45', Stop Time=u'2017-01-01 00:22:08', Start Station ID=u'3263', Start Station Name=u'Cooper Square & E 7 St', Start Station Latitude=u'40.72923649910006', Start Station Longitude=u'-73.99086803197861', End Station ID=u'498', End Station Name=u'Broadway & W 32 St', End Station Latitude=u'40.74854862', End Station Longitude=u'-73.98808416', Bike ID=u'21136', User Type=u'Subscriber', Birth Year=u'1987', Gender=u'2'),\n",
       " Row(Trip Duration=u'648', Start Time=u'2017-01-01 00:00:57', Stop Time=u'2017-01-01 00:11:46', Start Station ID=u'3143', Start Station Name=u'5 Ave & E 78 St', Start Station Latitude=u'40.77682863439968', Start Station Longitude=u'-73.96388769149779', End Station ID=u'3152', End Station Name=u'3 Ave & E 71 St', End Station Latitude=u'40.76873687', End Station Longitude=u'-73.96119945', Bike ID=u'18147', User Type=u'Customer', Birth Year=None, Gender=u'0'),\n",
       " Row(Trip Duration=u'631', Start Time=u'2017-01-01 00:01:10', Stop Time=u'2017-01-01 00:11:42', Start Station ID=u'3143', Start Station Name=u'5 Ave & E 78 St', Start Station Latitude=u'40.77682863439968', Start Station Longitude=u'-73.96388769149779', End Station ID=u'3152', End Station Name=u'3 Ave & E 71 St', End Station Latitude=u'40.76873687', End Station Longitude=u'-73.96119945', Bike ID=u'21211', User Type=u'Customer', Birth Year=None, Gender=u'0'),\n",
       " Row(Trip Duration=u'621', Start Time=u'2017-01-01 00:01:25', Stop Time=u'2017-01-01 00:11:47', Start Station ID=u'3143', Start Station Name=u'5 Ave & E 78 St', Start Station Latitude=u'40.77682863439968', Start Station Longitude=u'-73.96388769149779', End Station ID=u'3152', End Station Name=u'3 Ave & E 71 St', End Station Latitude=u'40.76873687', End Station Longitude=u'-73.96119945', Bike ID=u'26819', User Type=u'Customer', Birth Year=None, Gender=u'0')]"
      ]
     },
     "execution_count": 154,
     "metadata": {},
     "output_type": "execute_result"
    }
   ],
   "source": [
    "\n",
    "df_data_3 = pd.read_csv(get_object_storage_file_with_credentials_6f87b1d25f3b4023bbd4eb9a54f4fa7c('bikeshare', 'all_keywords.csv'))\n",
    "df_data_3.head()\n",
    "from pyspark.sql import SparkSession\n",
    "\n",
    "# @hidden_cell\n",
    "# This function is used to setup the access of Spark to your Object Storage. The definition contains your credentials.\n",
    "# You might want to remove those credentials before you share your notebook.\n",
    "def set_hadoop_config_with_credentials_6f87b1d25f3b4023bbd4eb9a54f4fa7c(name):\n",
    "    \"\"\"This function sets the Hadoop configuration so it is possible to\n",
    "    access data from Bluemix Object Storage using Spark\"\"\"\n",
    "\n",
    "    prefix = 'fs.swift.service.' + name\n",
    "    hconf = sc._jsc.hadoopConfiguration()\n",
    "    hconf.set(prefix + '.auth.url', 'https://identity.open.softlayer.com'+'/v3/auth/tokens')\n",
    "    hconf.set(prefix + '.auth.endpoint.prefix', 'endpoints')\n",
    "    hconf.set(prefix + '.tenant', '5bf68650a13f47d9a10fb4d0f20e1c05')\n",
    "    hconf.set(prefix + '.username', 'f2e695ab5f6e43d3a7e569148c5cd27a')\n",
    "    hconf.set(prefix + '.password', 'Xi(3#zNmtL51Td[T')\n",
    "    hconf.setInt(prefix + '.http.port', 8080)\n",
    "    hconf.set(prefix + '.region', 'dallas')\n",
    "    hconf.setBoolean(prefix + '.public', False)\n",
    "\n",
    "# you can choose any name\n",
    "name = 'keystone'\n",
    "set_hadoop_config_with_credentials_6f87b1d25f3b4023bbd4eb9a54f4fa7c(name)\n",
    "\n",
    "spark = SparkSession.builder.getOrCreate()\n",
    "\n",
    "df_data_1 = spark.read\\\n",
    "  .format('org.apache.spark.sql.execution.datasources.csv.CSVFileFormat')\\\n",
    "  .option('header', 'true')\\\n",
    "  .load('swift://bikeshare.' + name + '/all_keywords.csv')\n",
    "df_data_1.take(5)"
   ]
  },
  {
   "cell_type": "code",
   "execution_count": 155,
   "metadata": {
    "collapsed": false
   },
   "outputs": [],
   "source": [
    "bikeshare_1 = spark.read.csv('swift://bikeshare.' + name + '/all_keywords.csv', header=\"true\", inferSchema=\"true\",mode=\"DROPMALFORMED\")\n"
   ]
  },
  {
   "cell_type": "code",
   "execution_count": 156,
   "metadata": {
    "collapsed": false
   },
   "outputs": [
    {
     "name": "stdout",
     "output_type": "stream",
     "text": [
      "+-------------+-------------------+-------------------+----------------+--------------------+----------------------+-----------------------+--------------+--------------------+--------------------+---------------------+-------+----------+----------+------+\n",
      "|Trip Duration|         Start Time|          Stop Time|Start Station ID|  Start Station Name|Start Station Latitude|Start Station Longitude|End Station ID|    End Station Name|End Station Latitude|End Station Longitude|Bike ID| User Type|Birth Year|Gender|\n",
      "+-------------+-------------------+-------------------+----------------+--------------------+----------------------+-----------------------+--------------+--------------------+--------------------+---------------------+-------+----------+----------+------+\n",
      "|          680|2017-01-01 00:00:21|2017-01-01 00:11:41|            3226|W 82 St & Central...|              40.78275|              -73.97137|          3165|Central Park West...|   40.77579376683666|    -73.9762057363987|  25542|Subscriber|      1965|     2|\n",
      "|         1282|2017-01-01 00:00:45|2017-01-01 00:22:08|            3263|Cooper Square & E...|     40.72923649910006|     -73.99086803197861|           498|  Broadway & W 32 St|         40.74854862|         -73.98808416|  21136|Subscriber|      1987|     2|\n",
      "|          648|2017-01-01 00:00:57|2017-01-01 00:11:46|            3143|     5 Ave & E 78 St|     40.77682863439968|     -73.96388769149779|          3152|     3 Ave & E 71 St|         40.76873687|         -73.96119945|  18147|  Customer|      null|     0|\n",
      "|          631|2017-01-01 00:01:10|2017-01-01 00:11:42|            3143|     5 Ave & E 78 St|     40.77682863439968|     -73.96388769149779|          3152|     3 Ave & E 71 St|         40.76873687|         -73.96119945|  21211|  Customer|      null|     0|\n",
      "|          621|2017-01-01 00:01:25|2017-01-01 00:11:47|            3143|     5 Ave & E 78 St|     40.77682863439968|     -73.96388769149779|          3152|     3 Ave & E 71 St|         40.76873687|         -73.96119945|  26819|  Customer|      null|     0|\n",
      "+-------------+-------------------+-------------------+----------------+--------------------+----------------------+-----------------------+--------------+--------------------+--------------------+---------------------+-------+----------+----------+------+\n",
      "only showing top 5 rows\n",
      "\n"
     ]
    }
   ],
   "source": [
    "bikeshare_1.show(5)"
   ]
  },
  {
   "cell_type": "code",
   "execution_count": 157,
   "metadata": {
    "collapsed": false
   },
   "outputs": [
    {
     "name": "stdout",
     "output_type": "stream",
     "text": [
      "Model Created!\n"
     ]
    }
   ],
   "source": [
    "assembler = VectorAssembler(inputCols = [\"Start Station Latitude\",\"Start Station Longitude\"], outputCol=\"features\")\n",
    "train = assembler.transform(bikeshare_1)\n",
    "\n",
    "knum = 5\n",
    "bkm = BisectingKMeans(featuresCol=assembler.getOutputCol(), predictionCol=\"cluster\").setK(knum).setSeed(1)\n",
    "model = bkm.fit(train)\n",
    "print \"Model Created!\""
   ]
  },
  {
   "cell_type": "code",
   "execution_count": 158,
   "metadata": {
    "collapsed": false
   },
   "outputs": [
    {
     "name": "stdout",
     "output_type": "stream",
     "text": [
      "Cluster Centers: \n",
      "[ 40.6948017 -73.971997 ]\n",
      "[ 40.72430203 -73.99583307]\n",
      "[ 40.7486549  -73.99534182]\n",
      "[ 40.75210801 -73.97977582]\n",
      "[ 40.77449862 -73.96675263]\n"
     ]
    }
   ],
   "source": [
    "centers = model.clusterCenters()\n",
    "print(\"Cluster Centers: \")\n",
    "for center in centers:\n",
    "    print(center)"
   ]
  },
  {
   "cell_type": "code",
   "execution_count": 159,
   "metadata": {
    "collapsed": false
   },
   "outputs": [
    {
     "name": "stdout",
     "output_type": "stream",
     "text": [
      "+-------+------+\n",
      "|cluster| count|\n",
      "+-------+------+\n",
      "|      0|325712|\n",
      "|      1|779138|\n",
      "|      2|419914|\n",
      "|      3|370922|\n",
      "|      4|350302|\n",
      "+-------+------+\n",
      "\n"
     ]
    }
   ],
   "source": [
    "prediction = model.transform(train)\n",
    "prediction.groupBy(\"cluster\").count().orderBy(\"cluster\").show()"
   ]
  },
  {
   "cell_type": "code",
   "execution_count": 160,
   "metadata": {
    "collapsed": false
   },
   "outputs": [
    {
     "name": "stdout",
     "output_type": "stream",
     "text": [
      "+----------------+-------+\n",
      "|Start Station ID|cluster|\n",
      "+----------------+-------+\n",
      "|            3226|      4|\n",
      "|            3263|      1|\n",
      "|            3143|      4|\n",
      "|            3143|      4|\n",
      "|            3143|      4|\n",
      "|            3163|      4|\n",
      "|             499|      4|\n",
      "|             362|      3|\n",
      "|             430|      0|\n",
      "|            3165|      4|\n",
      "|             528|      3|\n",
      "|             474|      2|\n",
      "|             524|      3|\n",
      "|             297|      1|\n",
      "|             515|      2|\n",
      "|            3172|      4|\n",
      "|             515|      2|\n",
      "|             423|      3|\n",
      "|             267|      3|\n",
      "|             369|      1|\n",
      "|            3139|      4|\n",
      "|             279|      1|\n",
      "|             301|      1|\n",
      "|             128|      1|\n",
      "|             449|      3|\n",
      "|             449|      3|\n",
      "|             449|      3|\n",
      "|             153|      3|\n",
      "|             368|      1|\n",
      "|             513|      3|\n",
      "|             449|      3|\n",
      "|             449|      3|\n",
      "|             523|      2|\n",
      "|            3255|      2|\n",
      "|             523|      2|\n",
      "|             482|      2|\n",
      "|            3429|      0|\n",
      "|             473|      1|\n",
      "|             516|      3|\n",
      "|             472|      3|\n",
      "|             472|      3|\n",
      "|            3349|      0|\n",
      "|            3349|      0|\n",
      "|            3349|      0|\n",
      "|             478|      2|\n",
      "|             442|      2|\n",
      "|             466|      2|\n",
      "|             442|      2|\n",
      "|            3349|      0|\n",
      "|            3349|      0|\n",
      "+----------------+-------+\n",
      "only showing top 50 rows\n",
      "\n"
     ]
    }
   ],
   "source": [
    "prediction.select(\"Start Station ID\", \"cluster\").show(50)"
   ]
  },
  {
   "cell_type": "code",
   "execution_count": 161,
   "metadata": {
    "collapsed": false
   },
   "outputs": [
    {
     "name": "stdout",
     "output_type": "stream",
     "text": [
      "Cluster0\n",
      "+-------------+-------------------+-------------------+----------------+--------------------+----------------------+-----------------------+--------------+--------------------+--------------------+---------------------+-------+----------+----------+------+\n",
      "|Trip Duration|         Start Time|          Stop Time|Start Station ID|  Start Station Name|Start Station Latitude|Start Station Longitude|End Station ID|    End Station Name|End Station Latitude|End Station Longitude|Bike ID| User Type|Birth Year|Gender|\n",
      "+-------------+-------------------+-------------------+----------------+--------------------+----------------------+-----------------------+--------------+--------------------+--------------------+---------------------+-------+----------+----------+------+\n",
      "|          255|2017-01-01 00:05:47|2017-01-01 00:10:02|             430|    York St & Jay St|            40.7014851|           -73.98656928|           242|Carlton Ave & Flu...|           40.697787|           -73.973736|  25041|Subscriber|      1989|     1|\n",
      "|          335|2017-01-01 00:14:20|2017-01-01 00:19:55|            3429|Hanson Pl & Ashla...|     40.68506807308177|     -73.97790759801863|           270|Adelphi St & Myrt...|         40.69308257|         -73.97178913|  26119|Subscriber|      1990|     1|\n",
      "|          485|2017-01-01 00:15:08|2017-01-01 00:23:13|            3349|Grand Army Plaza ...|            40.6729679|           -73.97087984|          3414|Bergen St & Flatb...|  40.680944723477296|   -73.97567331790923|  17587|Subscriber|      1995|     2|\n",
      "|          486|2017-01-01 00:15:12|2017-01-01 00:23:19|            3349|Grand Army Plaza ...|            40.6729679|           -73.97087984|          3414|Bergen St & Flatb...|  40.680944723477296|   -73.97567331790923|  19764|Subscriber|      1963|     2|\n",
      "|          391|2017-01-01 00:15:17|2017-01-01 00:21:48|            3349|Grand Army Plaza ...|            40.6729679|           -73.97087984|          3417|   Baltic St & 5 Ave|          40.6795766|         -73.97854971|  18945|Subscriber|      1968|     2|\n",
      "|         1453|2017-01-01 00:17:13|2017-01-01 00:41:26|            3349|Grand Army Plaza ...|            40.6729679|           -73.97087984|           343|Clinton Ave & Flu...|            40.69794|         -73.96986848|  25744|  Customer|      null|     0|\n",
      "|         1471|2017-01-01 00:17:14|2017-01-01 00:41:46|            3349|Grand Army Plaza ...|            40.6729679|           -73.97087984|           343|Clinton Ave & Flu...|            40.69794|         -73.96986848|  27273|  Customer|      null|     0|\n",
      "|          966|2017-01-01 00:17:27|2017-01-01 00:33:34|            3319|       14 St & 5 Ave|             40.666287|           -73.98895053|           364|Lafayette Ave & C...|         40.68900443|         -73.96023854|  25525|Subscriber|      1990|     1|\n",
      "|          301|2017-01-01 00:17:50|2017-01-01 00:22:52|             389| Broadway & Berry St|           40.71044554|           -73.96525063|          3073|Division Ave & Ho...|         40.70691254|         -73.95441667|  18369|Subscriber|      1983|     2|\n",
      "|          184|2017-01-01 00:18:46|2017-01-01 00:21:50|            3064|Myrtle Ave & Lewi...|           40.69681963|           -73.93756926|          3059|Pulaski St & Marc...|          40.6933982|           -73.939877|  19078|Subscriber|      1984|     1|\n",
      "|          236|2017-01-01 00:20:15|2017-01-01 00:24:11|            3354|3 St & Prospect P...|             40.668132|           -73.97363831|          3423|West Drive & Pros...|    40.6610633719006|   -73.97945255041122|  25423|Subscriber|      1954|     1|\n",
      "|         1142|2017-01-01 00:21:31|2017-01-01 00:40:34|            3354|3 St & Prospect P...|             40.668132|           -73.97363831|           353|S Portland Ave & ...|         40.68539567|         -73.97431458|  18075|Subscriber|      1978|     1|\n",
      "|         1142|2017-01-01 00:21:42|2017-01-01 00:40:44|            3354|3 St & Prospect P...|             40.668132|           -73.97363831|           353|S Portland Ave & ...|         40.68539567|         -73.97431458|  20339|Subscriber|      1982|     2|\n",
      "|          491|2017-01-01 00:22:02|2017-01-01 00:30:13|            3354|3 St & Prospect P...|             40.668132|           -73.97363831|          3313|       6 Ave & 12 St|          40.6663181|          -73.9854617|  16835|  Customer|      null|     0|\n",
      "|          490|2017-01-01 00:22:01|2017-01-01 00:30:12|            3354|3 St & Prospect P...|             40.668132|           -73.97363831|          3313|       6 Ave & 12 St|          40.6663181|          -73.9854617|  16318|Subscriber|      1976|     1|\n",
      "|          635|2017-01-01 00:22:23|2017-01-01 00:32:59|            3416|     7 Ave & Park Pl|            40.6776147|           -73.97324283|          3354|3 St & Prospect P...|           40.668132|         -73.97363831|  25609|Subscriber|      1953|     2|\n",
      "|          285|2017-01-01 00:22:45|2017-01-01 00:27:31|             391| Clark St & Henry St|           40.69760127|           -73.99344559|          3242|Schermerhorn St &...|   40.69102925677968|   -73.99183362722397|  27147|Subscriber|      1942|     1|\n",
      "|         1890|2017-01-01 00:23:01|2017-01-01 00:54:31|            3349|Grand Army Plaza ...|            40.6729679|           -73.97087984|           412|Forsyth St & Cana...|          40.7158155|         -73.99422366|  15148|Subscriber|      1984|     1|\n",
      "|        13108|2017-01-01 00:23:07|2017-01-01 04:01:35|            3349|Grand Army Plaza ...|            40.6729679|           -73.97087984|           311|Norfolk St & Broo...|          40.7172274|         -73.98802084|  18707|  Customer|      null|     0|\n",
      "|         3572|2017-01-01 00:23:08|2017-01-01 01:22:41|            3349|Grand Army Plaza ...|            40.6729679|           -73.97087984|           311|Norfolk St & Broo...|          40.7172274|         -73.98802084|  20816|  Customer|      null|     0|\n",
      "|         1090|2017-01-01 00:23:12|2017-01-01 00:41:22|             324|DeKalb Ave & Huds...|             40.689888|             -73.981013|           326|     E 11 St & 1 Ave|         40.72953837|         -73.98426726|  23097|Subscriber|      1984|     1|\n",
      "|          131|2017-01-01 00:23:19|2017-01-01 00:25:31|            3317|       10 St & 5 Ave|            40.6686273|           -73.98700053|          3322|       12 St & 4 Ave|           40.668603|          -73.9904394|  23405|Subscriber|      1959|     1|\n",
      "|         1282|2017-01-01 00:23:35|2017-01-01 00:44:58|             532|     S 5 Pl & S 4 St|             40.710451|             -73.960876|           416|Cumberland St & L...|         40.68753406|         -73.97265183|  26359|Subscriber|      1975|     1|\n",
      "|         1190|2017-01-01 00:23:57|2017-01-01 00:43:48|             532|     S 5 Pl & S 4 St|             40.710451|             -73.960876|           416|Cumberland St & L...|         40.68753406|         -73.97265183|  26099|Subscriber|      1975|     1|\n",
      "|         1024|2017-01-01 00:24:24|2017-01-01 00:41:29|             398|Atlantic Ave & Fu...|           40.69165183|            -73.9999786|          3396|Clinton St & 4 Place|          40.6783563|         -74.00014502|  25787|Subscriber|      1982|     2|\n",
      "|          993|2017-01-01 00:24:29|2017-01-01 00:41:03|             398|Atlantic Ave & Fu...|           40.69165183|            -73.9999786|          3396|Clinton St & 4 Place|          40.6783563|         -74.00014502|  26334|Subscriber|      1976|     1|\n",
      "|          357|2017-01-01 00:24:38|2017-01-01 00:30:36|             366|Clinton Ave & Myr...|             40.693261|             -73.968896|           243|Fulton St & Rockw...|           40.688226|           -73.979382|  14635|Subscriber|      1988|     1|\n",
      "|          516|2017-01-01 00:24:53|2017-01-01 00:33:29|             143|Clinton St & Jora...|           40.69239502|           -73.99337909|           430|    York St & Jay St|          40.7014851|         -73.98656928|  25851|Subscriber|      1963|     1|\n",
      "|          309|2017-01-01 00:25:37|2017-01-01 00:30:47|             419|Carlton Ave & Par...|           40.69580705|           -73.97355569|           324|DeKalb Ave & Huds...|           40.689888|           -73.981013|  27077|Subscriber|      1989|     1|\n",
      "|          230|2017-01-01 00:25:39|2017-01-01 00:29:30|            3078|Broadway & Roebli...|           40.70925562|           -73.95982218|          3069|Lorimer St & Broa...|         40.70411791|         -73.94818595|  24151|Subscriber|      1996|     1|\n",
      "|         1394|2017-01-01 00:26:31|2017-01-01 00:49:45|            3423|West Drive & Pros...|      40.6610633719006|     -73.97945255041122|          3060|Willoughby Ave & ...|         40.69425403|         -73.94626915|  26045|Subscriber|      1977|     1|\n",
      "|          294|2017-01-01 00:27:38|2017-01-01 00:32:32|            3416|     7 Ave & Park Pl|            40.6776147|           -73.97324283|          3417|   Baltic St & 5 Ave|          40.6795766|         -73.97854971|  20545|  Customer|      null|     0|\n",
      "|          248|2017-01-01 00:28:14|2017-01-01 00:32:23|            3416|     7 Ave & Park Pl|            40.6776147|           -73.97324283|          3417|   Baltic St & 5 Ave|          40.6795766|         -73.97854971|  17690|  Customer|      null|     0|\n",
      "|          142|2017-01-01 00:28:30|2017-01-01 00:30:52|            3326|Clinton St & Cent...|              40.67434|           -74.00194698|          3394|Columbia St & W 9 St|          40.6769993|         -74.00647134|  20329|Subscriber|      1995|     1|\n",
      "|          146|2017-01-01 00:28:30|2017-01-01 00:30:56|            3326|Clinton St & Cent...|              40.67434|           -74.00194698|          3394|Columbia St & W 9 St|          40.6769993|         -74.00647134|  16872|Subscriber|      1996|     1|\n",
      "|          238|2017-01-01 00:31:02|2017-01-01 00:35:01|             344|Monroe St & Bedfo...|            40.6851443|           -73.95380904|          3241|Monroe St & Tompk...|           40.686203|           -73.944694|  19072|Subscriber|      1984|     1|\n",
      "|          401|2017-01-01 00:31:24|2017-01-01 00:38:05|            3297|        6 St & 7 Ave|            40.6686627|           -73.97988067|          3401|        2 Ave & 9 St|          40.6724811|         -73.99331394|  24350|Subscriber|      1980|     1|\n",
      "|          397|2017-01-01 00:31:27|2017-01-01 00:38:05|            3297|        6 St & 7 Ave|            40.6686627|           -73.97988067|          3401|        2 Ave & 9 St|          40.6724811|         -73.99331394|  27230|Subscriber|      1982|     2|\n",
      "|          235|2017-01-01 00:31:54|2017-01-01 00:35:49|            3300|Prospect Park Wes...|     40.66514681533792|     -73.97637605667114|          3423|West Drive & Pros...|    40.6610633719006|   -73.97945255041122|  16503|Subscriber|      null|     0|\n",
      "|          664|2017-01-01 00:32:03|2017-01-01 00:43:07|             324|DeKalb Ave & Huds...|             40.689888|             -73.981013|          3339| Berkeley Pl & 6 Ave|          40.6765304|         -73.97846879|  27292|Subscriber|      1986|     1|\n",
      "|         1846|2017-01-01 00:32:08|2017-01-01 01:02:54|             396|Lefferts Pl & Fra...|          40.680342423|         -73.9557689392|           412|Forsyth St & Cana...|          40.7158155|         -73.99422366|  24956|Subscriber|      1995|     1|\n",
      "|         1867|2017-01-01 00:32:22|2017-01-01 01:03:30|             261|Johnson St & Gold St|           40.69474881|           -73.98362464|          3118|McGuinness Blvd &...|            40.73555|            -73.95284|  25463|Subscriber|      1989|     1|\n",
      "|          678|2017-01-01 00:34:31|2017-01-01 00:45:49|            3086|Graham Ave & Cons...|             40.715143|             -73.944507|          2002|Wythe Ave & Metro...|           40.716887|           -73.963198|  25846|Subscriber|      1977|     1|\n",
      "|          690|2017-01-01 00:34:43|2017-01-01 00:46:14|            3086|Graham Ave & Cons...|             40.715143|             -73.944507|          2002|Wythe Ave & Metro...|           40.716887|           -73.963198|  26518|Subscriber|      1979|     2|\n",
      "|         1311|2017-01-01 00:35:52|2017-01-01 00:57:44|            3081|Graham Ave & Gran...|             40.711863|             -73.944024|           307|Canal St & Rutger...|         40.71427487|         -73.98990025|  26997|Subscriber|      1988|     1|\n",
      "|         1204|2017-01-01 00:36:04|2017-01-01 00:56:09|             532|     S 5 Pl & S 4 St|             40.710451|             -73.960876|          3100|Nassau Ave & Newe...|  40.724812564400175|   -73.94752621650696|  20379|Subscriber|      1986|     1|\n",
      "|          119|2017-01-01 00:36:34|2017-01-01 00:38:33|            3382|Carroll St & Smit...|             40.680611|           -73.99475825|          3388|President St & He...|          40.6828003|         -73.99990419|  26519|Subscriber|      1965|     1|\n",
      "|          934|2017-01-01 00:37:10|2017-01-01 00:52:44|            3401|        2 Ave & 9 St|            40.6724811|           -73.99331394|          3311|Columbia St & Kan...|         40.68763155|          -74.0016256|  17102|  Customer|      null|     0|\n",
      "|          919|2017-01-01 00:37:15|2017-01-01 00:52:35|            3401|        2 Ave & 9 St|            40.6724811|           -73.99331394|          3311|Columbia St & Kan...|         40.68763155|          -74.0016256|  15690|  Customer|      null|     0|\n",
      "|          892|2017-01-01 00:37:39|2017-01-01 00:52:32|            3401|        2 Ave & 9 St|            40.6724811|           -73.99331394|          3311|Columbia St & Kan...|         40.68763155|          -74.0016256|  18683|Subscriber|      1986|     2|\n",
      "+-------------+-------------------+-------------------+----------------+--------------------+----------------------+-----------------------+--------------+--------------------+--------------------+---------------------+-------+----------+----------+------+\n",
      "only showing top 50 rows\n",
      "\n",
      "Cluster1\n",
      "+-------------+-------------------+-------------------+----------------+--------------------+----------------------+-----------------------+--------------+--------------------+--------------------+---------------------+-------+----------+----------+------+\n",
      "|Trip Duration|         Start Time|          Stop Time|Start Station ID|  Start Station Name|Start Station Latitude|Start Station Longitude|End Station ID|    End Station Name|End Station Latitude|End Station Longitude|Bike ID| User Type|Birth Year|Gender|\n",
      "+-------------+-------------------+-------------------+----------------+--------------------+----------------------+-----------------------+--------------+--------------------+--------------------+---------------------+-------+----------+----------+------+\n",
      "|         1282|2017-01-01 00:00:45|2017-01-01 00:22:08|            3263|Cooper Square & E...|     40.72923649910006|     -73.99086803197861|           498|  Broadway & W 32 St|         40.74854862|         -73.98808416|  21136|Subscriber|      1987|     2|\n",
      "|          738|2017-01-01 00:08:50|2017-01-01 00:21:09|             297|     E 15 St & 3 Ave|             40.734232|             -73.986923|           355|Bayard St & Baxte...|         40.71602118|         -73.99974372|  23874|Subscriber|      1996|     1|\n",
      "|         1231|2017-01-01 00:09:59|2017-01-01 00:30:31|             369|Washington Pl & 6...|           40.73224119|           -74.00026394|           306|Cliff St & Fulton St|         40.70823502|         -74.00530063|  21128|Subscriber|      1969|     1|\n",
      "|          229|2017-01-01 00:10:50|2017-01-01 00:14:40|             279|Peck Slip & Front St|             40.707873|              -74.00167|           308|St James Pl & Oli...|         40.71307916|         -73.99851193|  18417|Subscriber|      1974|     1|\n",
      "|          570|2017-01-01 00:10:50|2017-01-01 00:20:20|             301|   E 2 St & Avenue B|           40.72217444|           -73.98368779|           301|   E 2 St & Avenue B|         40.72217444|         -73.98368779|  21400|Subscriber|      1996|     1|\n",
      "|          207|2017-01-01 00:10:53|2017-01-01 00:14:20|             128|MacDougal St & Pr...|           40.72710258|           -74.00297088|           229|      Great Jones St|         40.72743423|         -73.99379025|  26577|Subscriber|      1991|     1|\n",
      "|         1173|2017-01-01 00:12:40|2017-01-01 00:32:14|             368|  Carmine St & 6 Ave|           40.73038599|           -74.00214988|           524|     W 43 St & 6 Ave|         40.75527307|         -73.98316936|  26003|Subscriber|      1991|     1|\n",
      "|          337|2017-01-01 00:14:32|2017-01-01 00:20:09|             473|Rivington St & Ch...|           40.72110063|            -73.9919254|           410|Suffolk St & Stan...|         40.72066442|         -73.98517977|  17108|Subscriber|      1989|     1|\n",
      "|          401|2017-01-01 00:17:20|2017-01-01 00:24:01|             475| E 16 St & Irving Pl|           40.73524276|           -73.98758561|           237|     E 11 St & 2 Ave|         40.73047309|         -73.98672378|  17533|  Customer|      null|     0|\n",
      "|          313|2017-01-01 00:17:46|2017-01-01 00:22:59|             475| E 16 St & Irving Pl|           40.73524276|           -73.98758561|           237|     E 11 St & 2 Ave|         40.73047309|         -73.98672378|  16468|  Customer|      null|     0|\n",
      "|         2502|2017-01-01 00:18:12|2017-01-01 00:59:55|            3263|Cooper Square & E...|     40.72923649910006|     -73.99086803197861|           412|Forsyth St & Cana...|          40.7158155|         -73.99422366|  16981|Subscriber|      1988|     1|\n",
      "|         1730|2017-01-01 00:19:12|2017-01-01 00:48:03|             312|Allen St & Stanto...|             40.722055|             -73.989111|            82|St James Pl & Pea...|         40.71117416|         -74.00016545|  22906|Subscriber|      1997|     1|\n",
      "|         1169|2017-01-01 00:19:39|2017-01-01 00:39:09|             445|  E 10 St & Avenue A|           40.72740794|           -73.98142006|          3243|     E 58 St & 1 Ave|   40.75892386377695|   -73.96226227283478|  23288|Subscriber|      1992|     1|\n",
      "|          381|2017-01-01 00:20:06|2017-01-01 00:26:28|             308|St James Pl & Oli...|           40.71307916|           -73.99851193|           534|Water - Whitehall...|         40.70255065|          -74.0127234|  17789|Subscriber|      1992|     1|\n",
      "|          373|2017-01-01 00:23:33|2017-01-01 00:29:47|             502| Henry St & Grand St|             40.714215|             -73.981346|           350|Clinton St & Gran...|         40.71559509|          -73.9870295|  14555|Subscriber|      1971|     2|\n",
      "|         1034|2017-01-01 00:24:07|2017-01-01 00:41:21|             326|     E 11 St & 1 Ave|           40.72953837|           -73.98426726|           448|    W 37 St & 10 Ave|         40.75660359|          -73.9979009|  26787|Subscriber|      1973|     1|\n",
      "|          361|2017-01-01 00:24:21|2017-01-01 00:30:23|             461|     E 20 St & 2 Ave|           40.73587678|           -73.98205027|           439|      E 4 St & 2 Ave|          40.7262807|         -73.98978041|  20968|Subscriber|      1962|     1|\n",
      "|         1370|2017-01-01 00:24:47|2017-01-01 00:47:37|             376|John St & William St|           40.70862144|           -74.00722156|           482|     W 15 St & 7 Ave|         40.73935542|         -73.99931783|  26399|Subscriber|      1970|     1|\n",
      "|         1353|2017-01-01 00:25:01|2017-01-01 00:47:35|             376|John St & William St|           40.70862144|           -74.00722156|           482|     W 15 St & 7 Ave|         40.73935542|         -73.99931783|  27105|Subscriber|      1977|     1|\n",
      "|          622|2017-01-01 00:25:15|2017-01-01 00:35:38|             224|Spruce St & Nassa...|           40.71146364|           -74.00552427|           265|Stanton St & Chry...|         40.72229346|         -73.99147535|  26568|Subscriber|      1983|     1|\n",
      "|         1435|2017-01-01 00:25:26|2017-01-01 00:49:22|             383|Greenwich Ave & C...|             40.735238|             -74.000271|          3155|Lexington Ave & E...|         40.76440023|         -73.96648977|  21262|Subscriber|      1986|     1|\n",
      "|          374|2017-01-01 00:26:23|2017-01-01 00:32:38|             146|Hudson St & Reade St|           40.71625008|            -74.0091059|           363|      West Thames St|         40.70834698|         -74.01713445|  26034|Subscriber|      1984|     1|\n",
      "|         1633|2017-01-01 00:27:07|2017-01-01 00:54:21|             237|     E 11 St & 2 Ave|           40.73047309|           -73.98672378|           259|South St & Whiteh...|         40.70122128|         -74.01234218|  17533|  Customer|      null|     0|\n",
      "|         1638|2017-01-01 00:27:13|2017-01-01 00:54:31|             237|     E 11 St & 2 Ave|           40.73047309|           -73.98672378|           259|South St & Whiteh...|         40.70122128|         -74.01234218|  27059|  Customer|      null|     0|\n",
      "|         1866|2017-01-01 00:29:26|2017-01-01 01:00:32|             285|  Broadway & E 14 St|           40.73454567|           -73.99074142|          3390|    E 109 St & 3 Ave|         40.79329668|          -73.9432083|  15849|Subscriber|      1979|     1|\n",
      "|          194|2017-01-01 00:29:54|2017-01-01 00:33:08|             504|     1 Ave & E 16 St|           40.73221853|           -73.98165557|           432|   E 7 St & Avenue A|         40.72621788|         -73.98379855|  18646|Subscriber|      1996|     1|\n",
      "|          469|2017-01-01 00:30:20|2017-01-01 00:38:10|             285|  Broadway & E 14 St|           40.73454567|           -73.99074142|           394|   E 9 St & Avenue C|         40.72521311|         -73.97768752|  23554|Subscriber|      1986|     2|\n",
      "|          706|2017-01-01 00:32:22|2017-01-01 00:44:09|             328|Watts St & Greenw...|           40.72405549|           -74.00965965|           195|Liberty St & Broa...|         40.70905623|         -74.01043382|  15777|  Customer|      null|     0|\n",
      "|          922|2017-01-01 00:32:31|2017-01-01 00:47:54|             284|Greenwich Ave & 8...|         40.7390169121|         -74.0026376103|           508|    W 46 St & 11 Ave|         40.76341379|         -73.99667444|  25076|Subscriber|      1982|     1|\n",
      "|          252|2017-01-01 00:32:43|2017-01-01 00:36:55|             383|Greenwich Ave & C...|             40.735238|             -74.000271|          3263|Cooper Square & E...|   40.72923649910006|   -73.99086803197861|  26764|Subscriber|      1982|     1|\n",
      "|          665|2017-01-01 00:32:57|2017-01-01 00:44:02|             328|Watts St & Greenw...|           40.72405549|           -74.00965965|           195|Liberty St & Broa...|         40.70905623|         -74.01043382|  18548|  Customer|      null|     0|\n",
      "|          435|2017-01-01 00:33:10|2017-01-01 00:40:25|             238|Bank St & Washing...|            40.7361967|           -74.00859207|           496|     E 16 St & 5 Ave|         40.73726186|         -73.99238967|  26822|Subscriber|      1992|     1|\n",
      "|         1518|2017-01-01 00:33:17|2017-01-01 00:58:36|             293|Lafayette St & E ...|     40.73020660529954|     -73.99102628231049|           368|  Carmine St & 6 Ave|         40.73038599|         -74.00214988|  25884|Subscriber|      1976|     1|\n",
      "|          503|2017-01-01 00:33:29|2017-01-01 00:41:52|             496|     E 16 St & 5 Ave|           40.73726186|           -73.99238967|           509|     9 Ave & W 22 St|          40.7454973|         -74.00197139|  19808|Subscriber|      1961|     1|\n",
      "|         1102|2017-01-01 00:33:50|2017-01-01 00:52:13|             497|  E 17 St & Broadway|           40.73704984|           -73.99009296|           514|    12 Ave & W 40 St|         40.76087502|         -74.00277668|  20842|Subscriber|      1999|     1|\n",
      "|          242|2017-01-01 00:33:58|2017-01-01 00:38:01|             306|Cliff St & Fulton St|           40.70823502|           -74.00530063|           224|Spruce St & Nassa...|         40.71146364|         -74.00552427|  22577|Subscriber|      1969|     1|\n",
      "|          585|2017-01-01 00:34:25|2017-01-01 00:44:11|             309| Murray St & West St|            40.7149787|             -74.013012|           355|Bayard St & Baxte...|         40.71602118|         -73.99974372|  20972|Subscriber|      1988|     1|\n",
      "|          375|2017-01-01 00:34:43|2017-01-01 00:40:58|             383|Greenwich Ave & C...|             40.735238|             -74.000271|           509|     9 Ave & W 22 St|          40.7454973|         -74.00197139|  27284|Subscriber|      1984|     1|\n",
      "|          276|2017-01-01 00:34:48|2017-01-01 00:39:24|             439|      E 4 St & 2 Ave|            40.7262807|           -73.98978041|           128|MacDougal St & Pr...|         40.72710258|         -74.00297088|  24031|Subscriber|      1984|     1|\n",
      "|          856|2017-01-01 00:34:54|2017-01-01 00:49:10|             238|Bank St & Washing...|            40.7361967|           -74.00859207|          3002|South End Ave & L...|           40.711512|           -74.015756|  27126|Subscriber|      1959|     1|\n",
      "|          513|2017-01-01 00:35:15|2017-01-01 00:43:48|             393|   E 5 St & Avenue C|           40.72299208|           -73.97995466|           285|  Broadway & E 14 St|         40.73454567|         -73.99074142|  16948|Subscriber|      1988|     1|\n",
      "|          358|2017-01-01 00:35:17|2017-01-01 00:41:15|             405|Washington St & G...|             40.739323|             -74.008119|           358|Christopher St & ...|         40.73291553|         -74.00711384|  26137|Subscriber|      1978|     1|\n",
      "|          306|2017-01-01 00:35:31|2017-01-01 00:40:38|             285|  Broadway & E 14 St|           40.73454567|           -73.99074142|           168|     W 18 St & 6 Ave|         40.73971301|         -73.99456405|  19281|Subscriber|      1994|     1|\n",
      "|         1057|2017-01-01 00:36:51|2017-01-01 00:54:29|             247|Perry St & Bleeck...|           40.73535398|           -74.00483091|           330| Reade St & Broadway|         40.71450451|         -74.00562789|  24790|  Customer|      null|     0|\n",
      "|         1051|2017-01-01 00:36:54|2017-01-01 00:54:25|             247|Perry St & Bleeck...|           40.73535398|           -74.00483091|           330| Reade St & Broadway|         40.71450451|         -74.00562789|  25927|  Customer|      null|     0|\n",
      "|          625|2017-01-01 00:37:03|2017-01-01 00:47:28|             382|University Pl & E...|           40.73492695|           -73.99200509|           317|   E 6 St & Avenue B|         40.72453734|         -73.98185424|  17326|Subscriber|      1974|     2|\n",
      "|         1388|2017-01-01 00:38:18|2017-01-01 01:01:26|             217|       Old Fulton St|           40.70277159|           -73.99383605|           261|Johnson St & Gold St|         40.69474881|         -73.98362464|  26890|  Customer|      null|     0|\n",
      "|         1365|2017-01-01 00:38:54|2017-01-01 01:01:40|             217|       Old Fulton St|           40.70277159|           -73.99383605|           261|Johnson St & Gold St|         40.69474881|         -73.98362464|  19265|  Customer|      null|     0|\n",
      "|          338|2017-01-01 00:39:26|2017-01-01 00:45:05|             340|Madison St & Clin...|           40.71269042|           -73.98776323|           301|   E 2 St & Avenue B|         40.72217444|         -73.98368779|  26935|Subscriber|      1987|     1|\n",
      "|          255|2017-01-01 00:40:50|2017-01-01 00:45:05|             439|      E 4 St & 2 Ave|            40.7262807|           -73.98978041|           410|Suffolk St & Stan...|         40.72066442|         -73.98517977|  14942|Subscriber|      1993|     1|\n",
      "+-------------+-------------------+-------------------+----------------+--------------------+----------------------+-----------------------+--------------+--------------------+--------------------+---------------------+-------+----------+----------+------+\n",
      "only showing top 50 rows\n",
      "\n",
      "Cluster2\n",
      "+-------------+-------------------+-------------------+----------------+--------------------+----------------------+-----------------------+--------------+--------------------+--------------------+---------------------+-------+----------+----------+------+\n",
      "|Trip Duration|         Start Time|          Stop Time|Start Station ID|  Start Station Name|Start Station Latitude|Start Station Longitude|End Station ID|    End Station Name|End Station Latitude|End Station Longitude|Bike ID| User Type|Birth Year|Gender|\n",
      "+-------------+-------------------+-------------------+----------------+--------------------+----------------------+-----------------------+--------------+--------------------+--------------------+---------------------+-------+----------+----------+------+\n",
      "|          479|2017-01-01 00:08:00|2017-01-01 00:15:59|             474|     5 Ave & E 29 St|            40.7451677|           -73.98683077|          3259|     9 Ave & W 28 St|   40.74937024193277|   -73.99923384189606|  19728|Subscriber|      1973|     1|\n",
      "|          901|2017-01-01 00:09:18|2017-01-01 00:24:20|             515|    W 43 St & 10 Ave|           40.76009437|           -73.99461843|          3428|     8 Ave & W 16 St|           40.740983|           -74.001702|  26501|Subscriber|      1964|     1|\n",
      "|          899|2017-01-01 00:09:20|2017-01-01 00:24:19|             515|    W 43 St & 10 Ave|           40.76009437|           -73.99461843|          3428|     8 Ave & W 16 St|           40.740983|           -74.001702|  15597|Subscriber|      1970|     1|\n",
      "|         1230|2017-01-01 00:13:16|2017-01-01 00:33:46|             523|     W 38 St & 8 Ave|           40.75466591|           -73.99138152|           247|Perry St & Bleeck...|         40.73535398|         -74.00483091|  24790|  Customer|      null|     0|\n",
      "|         2325|2017-01-01 00:13:34|2017-01-01 00:52:19|            3255|     8 Ave & W 31 St|      40.7505853470215|      -73.9946848154068|           532|     S 5 Pl & S 4 St|           40.710451|           -73.960876|  17252|Subscriber|      1980|     2|\n",
      "|         1209|2017-01-01 00:13:34|2017-01-01 00:33:43|             523|     W 38 St & 8 Ave|           40.75466591|           -73.99138152|           247|Perry St & Bleeck...|         40.73535398|         -74.00483091|  21440|  Customer|      null|     0|\n",
      "|          629|2017-01-01 00:13:35|2017-01-01 00:24:04|             482|     W 15 St & 7 Ave|           40.73935542|           -73.99931783|          3263|Cooper Square & E...|   40.72923649910006|   -73.99086803197861|  23837|Subscriber|      1943|     1|\n",
      "|         1497|2017-01-01 00:15:29|2017-01-01 00:40:27|             478|    11 Ave & W 41 St|           40.76030096|           -73.99884222|           236| St Marks Pl & 2 Ave|          40.7284186|         -73.98713956|  25923|Subscriber|      1990|     2|\n",
      "|          334|2017-01-01 00:15:43|2017-01-01 00:21:17|             442|     W 27 St & 7 Ave|             40.746647|             -73.993915|           482|     W 15 St & 7 Ave|         40.73935542|         -73.99931783|  25730|Subscriber|      1973|     2|\n",
      "|          862|2017-01-01 00:16:39|2017-01-01 00:31:02|             466|     W 25 St & 6 Ave|           40.74395411|           -73.99144871|           410|Suffolk St & Stan...|         40.72066442|         -73.98517977|  25236|Subscriber|      1979|     1|\n",
      "|          919|2017-01-01 00:17:01|2017-01-01 00:32:20|             442|     W 27 St & 7 Ave|             40.746647|             -73.993915|           497|  E 17 St & Broadway|         40.73704984|         -73.99009296|  26018|  Customer|      null|     0|\n",
      "|          902|2017-01-01 00:17:19|2017-01-01 00:32:21|             442|     W 27 St & 7 Ave|             40.746647|             -73.993915|           497|  E 17 St & Broadway|         40.73704984|         -73.99009296|  18775|  Customer|      null|     0|\n",
      "|          222|2017-01-01 00:20:33|2017-01-01 00:24:15|             509|     9 Ave & W 22 St|            40.7454973|           -74.00197139|           458|    11 Ave & W 27 St|           40.751396|           -74.005226|  22625|Subscriber|      1966|     1|\n",
      "|          276|2017-01-01 00:26:07|2017-01-01 00:30:43|            3259|     9 Ave & W 28 St|     40.74937024193277|     -73.99923384189606|           470|     W 20 St & 8 Ave|         40.74345335|         -74.00004031|  20257|Subscriber|      1981|     1|\n",
      "|          131|2017-01-01 00:32:21|2017-01-01 00:34:32|            3236|  W 42 St & Dyer Ave|     40.75898481399634|     -73.99379968643188|           479|     9 Ave & W 45 St|         40.76019252|          -73.9912551|  15099|Subscriber|      1990|     1|\n",
      "|          672|2017-01-01 00:33:18|2017-01-01 00:44:31|            3255|     8 Ave & W 31 St|      40.7505853470215|      -73.9946848154068|           167|     E 39 St & 3 Ave|          40.7489006|         -73.97604882|  26341|Subscriber|      1966|     1|\n",
      "|         1076|2017-01-01 00:35:38|2017-01-01 00:53:35|             470|     W 20 St & 8 Ave|           40.74345335|           -74.00004031|           164|     E 47 St & 2 Ave|         40.75323098|         -73.97032517|  18095|Subscriber|      1988|     1|\n",
      "|         1991|2017-01-01 00:36:42|2017-01-01 01:09:53|             525|    W 34 St & 11 Ave|           40.75594159|            -74.0021163|          3383|Cathedral Pkwy & ...|           40.804213|         -73.96699104|  18790|Subscriber|      1989|     1|\n",
      "|          520|2017-01-01 00:38:01|2017-01-01 00:46:42|             490|     8 Ave & W 33 St|             40.751551|             -73.993934|           540|Lexington Ave & E...|   40.74311555376486|   -73.98215353488922|  16600|Subscriber|      1978|     1|\n",
      "|          529|2017-01-01 00:40:27|2017-01-01 00:49:16|             388|    W 26 St & 10 Ave|          40.749717753|          -74.002950346|           444|  Broadway & W 24 St|          40.7423543|         -73.98915076|  27226|Subscriber|      1964|     1|\n",
      "|          529|2017-01-01 00:40:27|2017-01-01 00:49:17|             388|    W 26 St & 10 Ave|          40.749717753|          -74.002950346|           444|  Broadway & W 24 St|          40.7423543|         -73.98915076|  18355|Subscriber|      1960|     1|\n",
      "|          447|2017-01-01 00:41:13|2017-01-01 00:48:40|             474|     5 Ave & E 29 St|            40.7451677|           -73.98683077|           507|     E 25 St & 2 Ave|         40.73912601|         -73.97973776|  25827|Subscriber|      1993|     1|\n",
      "|         1085|2017-01-01 00:41:57|2017-01-01 01:00:02|             491|E 24 St & Park Ave S|           40.74096374|           -73.98602213|           504|     1 Ave & E 16 St|         40.73221853|         -73.98165557|  16918|Subscriber|      1983|     1|\n",
      "|          721|2017-01-01 00:45:18|2017-01-01 00:57:20|             334|     W 20 St & 7 Ave|           40.74238787|           -73.99726235|           439|      E 4 St & 2 Ave|          40.7262807|         -73.98978041|  25726|Subscriber|      1960|     1|\n",
      "|          892|2017-01-01 00:48:55|2017-01-01 01:03:47|             503|  E 20 St & Park Ave|           40.73827428|           -73.98751968|           448|    W 37 St & 10 Ave|         40.75660359|          -73.9979009|  15692|Subscriber|      1989|     1|\n",
      "|          865|2017-01-01 00:49:10|2017-01-01 01:03:35|             453|     W 22 St & 8 Ave|           40.74475148|           -73.99915362|           251| Mott St & Prince St|         40.72317958|         -73.99480012|  26960|Subscriber|      1988|     1|\n",
      "|          380|2017-01-01 00:49:28|2017-01-01 00:55:49|             212|W 16 St & The Hig...|           40.74334935|           -74.00681753|          3255|     8 Ave & W 31 St|    40.7505853470215|    -73.9946848154068|  25805|Subscriber|      1976|     1|\n",
      "|         2433|2017-01-01 00:49:32|2017-01-01 01:30:05|            3259|     9 Ave & W 28 St|     40.74937024193277|     -73.99923384189606|           410|Suffolk St & Stan...|         40.72066442|         -73.98517977|  17748|Subscriber|      1985|     2|\n",
      "|          283|2017-01-01 00:50:10|2017-01-01 00:54:54|             494|     W 26 St & 8 Ave|           40.74734825|           -73.99723551|           116|     W 17 St & 8 Ave|         40.74177603|         -74.00149746|  25728|Subscriber|      1979|     1|\n",
      "|          515|2017-01-01 00:51:48|2017-01-01 01:00:24|             168|     W 18 St & 6 Ave|           40.73971301|           -73.99456405|           487| E 20 St & FDR Drive|         40.73314259|         -73.97573881|  22652|Subscriber|      1983|     1|\n",
      "|          430|2017-01-01 00:55:09|2017-01-01 01:02:19|             448|    W 37 St & 10 Ave|           40.75660359|            -73.9979009|          3259|     9 Ave & W 28 St|   40.74937024193277|   -73.99923384189606|  26775|Subscriber|      1980|     1|\n",
      "|          430|2017-01-01 00:55:09|2017-01-01 01:02:19|             448|    W 37 St & 10 Ave|           40.75660359|            -73.9979009|           505|     6 Ave & W 33 St|         40.74901271|         -73.98848395|  23708|Subscriber|      1986|     1|\n",
      "|          456|2017-01-01 00:56:07|2017-01-01 01:03:44|             505|     6 Ave & W 33 St|           40.74901271|           -73.98848395|           448|    W 37 St & 10 Ave|         40.75660359|          -73.9979009|  15685|Subscriber|      1989|     1|\n",
      "|         1599|2017-01-01 00:56:15|2017-01-01 01:22:54|             498|  Broadway & W 32 St|           40.74854862|           -73.98808416|          3140|     1 Ave & E 78 St|         40.77140426|          -73.9535166|  21102|  Customer|      null|     0|\n",
      "|          315|2017-01-01 00:57:05|2017-01-01 01:02:21|             479|     9 Ave & W 45 St|           40.76019252|            -73.9912551|           448|    W 37 St & 10 Ave|         40.75660359|          -73.9979009|  26896|Subscriber|      1965|     2|\n",
      "|          265|2017-01-01 00:57:20|2017-01-01 01:01:46|             492|     W 33 St & 7 Ave|           40.75019995|           -73.99093085|           526|     E 33 St & 5 Ave|         40.74765947|         -73.98490707|  25701|Subscriber|      1983|     1|\n",
      "|         1533|2017-01-01 00:57:23|2017-01-01 01:22:57|             498|  Broadway & W 32 St|           40.74854862|           -73.98808416|          3140|     1 Ave & E 78 St|         40.77140426|          -73.9535166|  16003|Subscriber|      1976|     2|\n",
      "|         2340|2017-01-01 00:58:43|2017-01-01 01:37:43|             529|     W 42 St & 8 Ave|            40.7575699|           -73.99098507|          3163|Central Park West...|          40.7734066|         -73.97782542|  17974|Subscriber|      1979|     2|\n",
      "|          184|2017-01-01 00:59:18|2017-01-01 01:02:23|             168|     W 18 St & 6 Ave|           40.73971301|           -73.99456405|           482|     W 15 St & 7 Ave|         40.73935542|         -73.99931783|  14675|Subscriber|      1980|     1|\n",
      "|          356|2017-01-01 01:00:28|2017-01-01 01:06:25|             402|  Broadway & E 22 St|            40.7403432|           -73.98955109|           453|     W 22 St & 8 Ave|         40.74475148|         -73.99915362|  25123|Subscriber|      1972|     1|\n",
      "|          350|2017-01-01 01:00:29|2017-01-01 01:06:19|             402|  Broadway & E 22 St|            40.7403432|           -73.98955109|           453|     W 22 St & 8 Ave|         40.74475148|         -73.99915362|  21695|Subscriber|      1968|     1|\n",
      "|          384|2017-01-01 01:01:11|2017-01-01 01:07:35|             488|     W 39 St & 9 Ave|           40.75645824|           -73.99372222|          3259|     9 Ave & W 28 St|   40.74937024193277|   -73.99923384189606|  23631|Subscriber|      1969|     1|\n",
      "|          362|2017-01-01 01:01:33|2017-01-01 01:07:35|             488|     W 39 St & 9 Ave|           40.75645824|           -73.99372222|          3259|     9 Ave & W 28 St|   40.74937024193277|   -73.99923384189606|  24958|Subscriber|      1967|     1|\n",
      "|          632|2017-01-01 01:01:58|2017-01-01 01:12:30|             509|     9 Ave & W 22 St|            40.7454973|           -74.00197139|           515|    W 43 St & 10 Ave|         40.76009437|         -73.99461843|  17463|Subscriber|      1962|     1|\n",
      "|         1100|2017-01-01 01:02:26|2017-01-01 01:20:47|             434|     9 Ave & W 18 St|           40.74317449|           -74.00366443|           236| St Marks Pl & 2 Ave|          40.7284186|         -73.98713956|  20905|Subscriber|      1981|     1|\n",
      "|          374|2017-01-01 01:02:41|2017-01-01 01:08:56|             523|     W 38 St & 8 Ave|           40.75466591|           -73.99138152|           486|  Broadway & W 29 St|          40.7462009|         -73.98855723|  17209|Subscriber|      1977|     1|\n",
      "|          649|2017-01-01 01:04:03|2017-01-01 01:14:52|             509|     9 Ave & W 22 St|            40.7454973|           -74.00197139|           335|Washington Pl & B...|         40.72903917|         -73.99404649|  25624|Subscriber|      1962|     1|\n",
      "|         1986|2017-01-01 01:06:16|2017-01-01 01:39:23|             388|    W 26 St & 10 Ave|          40.749717753|          -74.002950346|          3073|Division Ave & Ho...|         40.70691254|         -73.95441667|  27078|Subscriber|      1989|     1|\n",
      "|          301|2017-01-01 01:07:48|2017-01-01 01:12:49|             474|     5 Ave & E 29 St|            40.7451677|           -73.98683077|           442|     W 27 St & 7 Ave|           40.746647|           -73.993915|  18252|Subscriber|      1982|     1|\n",
      "|          177|2017-01-01 01:08:06|2017-01-01 01:11:04|             444|  Broadway & W 24 St|            40.7423543|           -73.98915076|           496|     E 16 St & 5 Ave|         40.73726186|         -73.99238967|  27226|Subscriber|      1992|     1|\n",
      "+-------------+-------------------+-------------------+----------------+--------------------+----------------------+-----------------------+--------------+--------------------+--------------------+---------------------+-------+----------+----------+------+\n",
      "only showing top 50 rows\n",
      "\n",
      "Cluster3\n",
      "+-------------+-------------------+-------------------+----------------+--------------------+----------------------+-----------------------+--------------+--------------------+--------------------+---------------------+-------+----------+----------+------+\n",
      "|Trip Duration|         Start Time|          Stop Time|Start Station ID|  Start Station Name|Start Station Latitude|Start Station Longitude|End Station ID|    End Station Name|End Station Latitude|End Station Longitude|Bike ID| User Type|Birth Year|Gender|\n",
      "+-------------+-------------------+-------------------+----------------+--------------------+----------------------+-----------------------+--------------+--------------------+--------------------+---------------------+-------+----------+----------+------+\n",
      "|          826|2017-01-01 00:05:37|2017-01-01 00:19:24|             362|  Broadway & W 37 St|           40.75172632|           -73.98753523|           445|  E 10 St & Avenue A|         40.72740794|         -73.98142006|  23288|Subscriber|      1977|     2|\n",
      "|         1081|2017-01-01 00:07:49|2017-01-01 00:25:50|             528|     2 Ave & E 31 St|           40.74290902|           -73.97706058|           526|     E 33 St & 5 Ave|         40.74765947|         -73.98490707|  26138|Subscriber|      1993|     1|\n",
      "|         2005|2017-01-01 00:05:57|2017-01-01 00:39:23|             524|     W 43 St & 6 Ave|           40.75527307|           -73.98316936|          3325|     E 95 St & 3 Ave|          40.7849032|           -73.950503|  17171|Subscriber|      1992|     1|\n",
      "|         1504|2017-01-01 00:09:29|2017-01-01 00:34:34|             423|     W 54 St & 9 Ave|           40.76584941|           -73.98690506|          3263|Cooper Square & E...|   40.72923649910006|   -73.99086803197861|  17810|Subscriber|      1994|     1|\n",
      "|          759|2017-01-01 00:09:30|2017-01-01 00:22:09|             267|  Broadway & W 36 St|           40.75097711|           -73.98765428|           520|     W 52 St & 5 Ave|         40.75992262|         -73.97648516|  27279|  Customer|      null|     0|\n",
      "|         6370|2017-01-01 00:11:34|2017-01-01 01:57:44|             449|     W 52 St & 9 Ave|           40.76461837|           -73.98789473|           524|     W 43 St & 6 Ave|         40.75527307|         -73.98316936|  15603|  Customer|      null|     0|\n",
      "|         6357|2017-01-01 00:11:44|2017-01-01 01:57:42|             449|     W 52 St & 9 Ave|           40.76461837|           -73.98789473|           524|     W 43 St & 6 Ave|         40.75527307|         -73.98316936|  16373|  Customer|      null|     0|\n",
      "|         6330|2017-01-01 00:12:13|2017-01-01 01:57:43|             449|     W 52 St & 9 Ave|           40.76461837|           -73.98789473|           524|     W 43 St & 6 Ave|         40.75527307|         -73.98316936|  17438|  Customer|      null|     0|\n",
      "|         1342|2017-01-01 00:12:16|2017-01-01 00:34:38|             153|     E 40 St & 5 Ave|          40.752062307|         -73.9816324043|           428|      E 3 St & 1 Ave|         40.72467721|         -73.98783413|  25023|Subscriber|      1968|     2|\n",
      "|         1386|2017-01-01 00:12:55|2017-01-01 00:36:02|             513|    W 56 St & 10 Ave|             40.768254|             -73.988639|           494|     W 26 St & 8 Ave|         40.74734825|         -73.99723551|  18569|Subscriber|      1986|     1|\n",
      "|         1580|2017-01-01 00:12:55|2017-01-01 00:39:15|             449|     W 52 St & 9 Ave|           40.76461837|           -73.98789473|           523|     W 38 St & 8 Ave|         40.75466591|         -73.99138152|  17209|  Customer|      null|     0|\n",
      "|         1565|2017-01-01 00:13:12|2017-01-01 00:39:18|             449|     W 52 St & 9 Ave|           40.76461837|           -73.98789473|           523|     W 38 St & 8 Ave|         40.75466591|         -73.99138152|  17280|  Customer|      null|     0|\n",
      "|         1469|2017-01-01 00:14:36|2017-01-01 00:39:06|             516|     E 47 St & 1 Ave|           40.75206862|           -73.96784384|          3390|    E 109 St & 3 Ave|         40.79329668|          -73.9432083|  19966|  Customer|      null|     0|\n",
      "|          600|2017-01-01 00:14:47|2017-01-01 00:24:48|             472|  E 32 St & Park Ave|            40.7457121|           -73.98194829|           334|     W 20 St & 7 Ave|         40.74238787|         -73.99726235|  25840|Subscriber|      1985|     2|\n",
      "|          592|2017-01-01 00:14:55|2017-01-01 00:24:48|             472|  E 32 St & Park Ave|            40.7457121|           -73.98194829|           334|     W 20 St & 7 Ave|         40.74238787|         -73.99726235|  25726|Subscriber|      1986|     1|\n",
      "|          562|2017-01-01 00:18:47|2017-01-01 00:28:09|            3233|     E 48 St & 5 Ave|     40.75724567911726|     -73.97805914282799|           379|     W 31 St & 7 Ave|           40.749156|             -73.9916|  25441|Subscriber|      1981|     1|\n",
      "|         1125|2017-01-01 00:25:23|2017-01-01 00:44:09|             522|E 51 St & Lexingt...|           40.75714758|           -73.97207836|          3288|     E 88 St & 1 Ave|           40.778301|          -73.9488134|  26131|Subscriber|      1968|     1|\n",
      "|         1309|2017-01-01 00:25:58|2017-01-01 00:47:48|             423|     W 54 St & 9 Ave|           40.76584941|           -73.98690506|           346| Bank St & Hudson St|         40.73652889|         -74.00618026|  26665|Subscriber|      1977|     1|\n",
      "|          384|2017-01-01 00:26:06|2017-01-01 00:32:31|             362|  Broadway & W 37 St|           40.75172632|           -73.98753523|           519|Pershing Square N...|           40.751873|           -73.977706|  17766|Subscriber|      1994|     1|\n",
      "|          540|2017-01-01 00:26:13|2017-01-01 00:35:13|             545|     E 23 St & 1 Ave|             40.736502|           -73.97809472|           483|     E 12 St & 3 Ave|         40.73223272|         -73.98889957|  26710|  Customer|      1990|     1|\n",
      "|         1527|2017-01-01 00:26:49|2017-01-01 00:52:16|             520|     W 52 St & 5 Ave|           40.75992262|           -73.97648516|          3118|McGuinness Blvd &...|            40.73555|            -73.95284|  20358|Subscriber|      1991|     1|\n",
      "|         1028|2017-01-01 00:28:51|2017-01-01 00:46:00|             153|     E 40 St & 5 Ave|          40.752062307|         -73.9816324043|          3131|     E 68 St & 3 Ave|   40.76712840349542|   -73.96224617958069|  19040|Subscriber|      1960|     2|\n",
      "|          765|2017-01-01 00:29:25|2017-01-01 00:42:11|             484|     W 44 St & 5 Ave|           40.75500254|           -73.98014437|           168|     W 18 St & 6 Ave|         40.73971301|         -73.99456405|  14675|Subscriber|      1984|     1|\n",
      "|          439|2017-01-01 00:30:03|2017-01-01 00:37:23|             476|     E 31 St & 3 Ave|           40.74394314|           -73.97966069|           461|     E 20 St & 2 Ave|         40.73587678|         -73.98205027|  17112|Subscriber|      1987|     1|\n",
      "|          375|2017-01-01 00:33:05|2017-01-01 00:39:20|             517|Pershing Square S...|             40.751581|              -73.97791|           507|     E 25 St & 2 Ave|         40.73912601|         -73.97973776|  14977|Subscriber|      1990|     1|\n",
      "|         1213|2017-01-01 00:36:09|2017-01-01 00:56:23|             528|     2 Ave & E 31 St|           40.74290902|           -73.97706058|           331| Pike St & Monroe St|         40.71173107|         -73.99193043|  15552|Subscriber|      1991|     2|\n",
      "|         1061|2017-01-01 00:42:07|2017-01-01 00:59:49|             450|     W 49 St & 8 Ave|           40.76227205|           -73.98788205|           459|    W 20 St & 11 Ave|           40.746745|           -74.007756|  21575|Subscriber|      1978|     1|\n",
      "|          591|2017-01-01 00:45:08|2017-01-01 00:55:00|             423|     W 54 St & 9 Ave|           40.76584941|           -73.98690506|           441|     E 52 St & 2 Ave|           40.756014|           -73.967416|  26458|Subscriber|      1975|     1|\n",
      "|          936|2017-01-01 00:49:35|2017-01-01 01:05:11|             519|Pershing Square N...|             40.751873|             -73.977706|           480|    W 53 St & 10 Ave|         40.76669671|         -73.99061728|  25517|Subscriber|      1992|     1|\n",
      "|         1358|2017-01-01 00:50:19|2017-01-01 01:12:58|             520|     W 52 St & 5 Ave|           40.75992262|           -73.97648516|           433|  E 13 St & Avenue A|         40.72955361|         -73.98057249|  24863|Subscriber|      1957|     2|\n",
      "|         1326|2017-01-01 00:50:25|2017-01-01 01:12:31|             520|     W 52 St & 5 Ave|           40.75992262|           -73.97648516|           433|  E 13 St & Avenue A|         40.72955361|         -73.98057249|  27183|Subscriber|      1959|     1|\n",
      "|          644|2017-01-01 00:52:38|2017-01-01 01:03:22|            3233|     E 48 St & 5 Ave|     40.75724567911726|     -73.97805914282799|          3142|     1 Ave & E 62 St|          40.7612274|         -73.96094022|  19071|Subscriber|      1989|     1|\n",
      "|          250|2017-01-01 00:53:24|2017-01-01 00:57:34|             546|E 30 St & Park Ave S|           40.74444921|           -73.98303529|           519|Pershing Square N...|           40.751873|           -73.977706|  22122|Subscriber|      1985|     1|\n",
      "|          146|2017-01-01 00:54:35|2017-01-01 00:57:01|            2021|     W 45 St & 8 Ave|           40.75929124|           -73.98859651|           515|    W 43 St & 10 Ave|         40.76009437|         -73.99461843|  22927|Subscriber|      1964|     1|\n",
      "|         1452|2017-01-01 00:55:03|2017-01-01 01:19:15|             423|     W 54 St & 9 Ave|           40.76584941|           -73.98690506|          3167|Amsterdam Ave & W...|   40.77966809007312|   -73.98093044757842|  24966|  Customer|      null|     0|\n",
      "|          947|2017-01-01 00:55:07|2017-01-01 01:10:55|             524|     W 43 St & 6 Ave|           40.75527307|           -73.98316936|           527|     E 33 St & 2 Ave|           40.744023|           -73.976056|  16235|Subscriber|      1976|     1|\n",
      "|          939|2017-01-01 00:55:09|2017-01-01 01:10:49|             524|     W 43 St & 6 Ave|           40.75527307|           -73.98316936|           527|     E 33 St & 2 Ave|           40.744023|           -73.976056|  15185|Subscriber|      1976|     1|\n",
      "|         1706|2017-01-01 00:55:41|2017-01-01 01:24:08|             228|     E 48 St & 3 Ave|         40.7546011026|          -73.971878855|           350|Clinton St & Gran...|         40.71559509|          -73.9870295|  15204|Subscriber|      1957|     1|\n",
      "|         1385|2017-01-01 00:55:56|2017-01-01 01:19:02|             423|     W 54 St & 9 Ave|           40.76584941|           -73.98690506|          3167|Amsterdam Ave & W...|   40.77966809007312|   -73.98093044757842|  26028|  Customer|      null|     0|\n",
      "|         1628|2017-01-01 00:56:03|2017-01-01 01:23:12|             536|     1 Ave & E 30 St|           40.74144387|           -73.97536082|          2008|Little West St & ...|         40.70569254|         -74.01677685|  26068|Subscriber|      1985|     1|\n",
      "|          514|2017-01-01 00:56:55|2017-01-01 01:05:30|            2021|     W 45 St & 8 Ave|           40.75929124|           -73.98859651|           480|    W 53 St & 10 Ave|         40.76669671|         -73.99061728|  27259|Subscriber|      1972|     2|\n",
      "|          612|2017-01-01 00:57:36|2017-01-01 01:07:49|             540|Lexington Ave & E...|     40.74311555376486|     -73.98215353488922|           237|     E 11 St & 2 Ave|         40.73047309|         -73.98672378|  27168|Subscriber|      1983|     1|\n",
      "|          435|2017-01-01 00:59:38|2017-01-01 01:06:53|             527|     E 33 St & 2 Ave|             40.744023|             -73.976056|           487| E 20 St & FDR Drive|         40.73314259|         -73.97573881|  23441|Subscriber|      1985|     1|\n",
      "|          302|2017-01-01 01:06:38|2017-01-01 01:11:40|             485|     W 37 St & 5 Ave|           40.75038009|           -73.98338988|           546|E 30 St & Park Ave S|         40.74444921|         -73.98303529|  18665|Subscriber|      1978|     1|\n",
      "|         2354|2017-01-01 01:07:44|2017-01-01 01:46:58|            3233|     E 48 St & 5 Ave|     40.75724567911726|     -73.97805914282799|          3158|  W 63 St & Broadway|         40.77163851|         -73.98261428|  15365|Subscriber|      1975|     1|\n",
      "|         1492|2017-01-01 01:10:24|2017-01-01 01:35:17|            3117|Franklin St & Dup...|              40.73564|              -73.95866|           356|Bialystoker Pl & ...|         40.71622644|         -73.98261206|  21339|Subscriber|      1974|     2|\n",
      "|          285|2017-01-01 01:11:29|2017-01-01 01:16:14|             528|     2 Ave & E 31 St|           40.74290902|           -73.97706058|           545|     E 23 St & 1 Ave|           40.736502|         -73.97809472|  17341|Subscriber|      1983|     1|\n",
      "|          250|2017-01-01 01:12:03|2017-01-01 01:16:14|             528|     2 Ave & E 31 St|           40.74290902|           -73.97706058|           545|     E 23 St & 1 Ave|           40.736502|         -73.97809472|  18688|Subscriber|      1985|     2|\n",
      "|          423|2017-01-01 01:12:28|2017-01-01 01:19:31|             507|     E 25 St & 2 Ave|           40.73912601|           -73.97973776|           505|     6 Ave & W 33 St|         40.74901271|         -73.98848395|  25827|Subscriber|      1988|     1|\n",
      "|          391|2017-01-01 01:12:56|2017-01-01 01:19:28|             530|    11 Ave & W 59 St|             40.771522|             -73.990541|           478|    11 Ave & W 41 St|         40.76030096|         -73.99884222|  16791|Subscriber|      1981|     1|\n",
      "+-------------+-------------------+-------------------+----------------+--------------------+----------------------+-----------------------+--------------+--------------------+--------------------+---------------------+-------+----------+----------+------+\n",
      "only showing top 50 rows\n",
      "\n",
      "Cluster4\n",
      "+-------------+-------------------+-------------------+----------------+--------------------+----------------------+-----------------------+--------------+--------------------+--------------------+---------------------+-------+----------+----------+------+\n",
      "|Trip Duration|         Start Time|          Stop Time|Start Station ID|  Start Station Name|Start Station Latitude|Start Station Longitude|End Station ID|    End Station Name|End Station Latitude|End Station Longitude|Bike ID| User Type|Birth Year|Gender|\n",
      "+-------------+-------------------+-------------------+----------------+--------------------+----------------------+-----------------------+--------------+--------------------+--------------------+---------------------+-------+----------+----------+------+\n",
      "|          680|2017-01-01 00:00:21|2017-01-01 00:11:41|            3226|W 82 St & Central...|              40.78275|              -73.97137|          3165|Central Park West...|   40.77579376683666|    -73.9762057363987|  25542|Subscriber|      1965|     2|\n",
      "|          648|2017-01-01 00:00:57|2017-01-01 00:11:46|            3143|     5 Ave & E 78 St|     40.77682863439968|     -73.96388769149779|          3152|     3 Ave & E 71 St|         40.76873687|         -73.96119945|  18147|  Customer|      null|     0|\n",
      "|          631|2017-01-01 00:01:10|2017-01-01 00:11:42|            3143|     5 Ave & E 78 St|     40.77682863439968|     -73.96388769149779|          3152|     3 Ave & E 71 St|         40.76873687|         -73.96119945|  21211|  Customer|      null|     0|\n",
      "|          621|2017-01-01 00:01:25|2017-01-01 00:11:47|            3143|     5 Ave & E 78 St|     40.77682863439968|     -73.96388769149779|          3152|     3 Ave & E 71 St|         40.76873687|         -73.96119945|  26819|  Customer|      null|     0|\n",
      "|          666|2017-01-01 00:01:51|2017-01-01 00:12:57|            3163|Central Park West...|            40.7734066|           -73.97782542|          3163|Central Park West...|          40.7734066|         -73.97782542|  16050|Subscriber|      2000|     1|\n",
      "|          559|2017-01-01 00:05:00|2017-01-01 00:14:20|             499|  Broadway & W 60 St|           40.76915505|           -73.98191841|           479|     9 Ave & W 45 St|         40.76019252|          -73.9912551|  27294|Subscriber|      1973|     1|\n",
      "|          634|2017-01-01 00:07:34|2017-01-01 00:18:08|            3165|Central Park West...|     40.77579376683666|      -73.9762057363987|          3164|Columbus Ave & W ...|          40.7770575|         -73.97898475|  16311|Subscriber|      1980|     1|\n",
      "|         1246|2017-01-01 00:09:19|2017-01-01 00:30:06|            3172|W 74 St & Columbu...|            40.7785669|           -73.97754961|          3163|Central Park West...|          40.7734066|         -73.97782542|  20845|Subscriber|      1977|     1|\n",
      "|          351|2017-01-01 00:10:11|2017-01-01 00:16:02|            3139|  E 72 St & Park Ave|     40.77118287540658|     -73.96409422159195|          3146|     E 81 St & 3 Ave|         40.77573034|          -73.9567526|  26491|Subscriber|      1984|     2|\n",
      "|          590|2017-01-01 00:17:36|2017-01-01 00:27:27|            3169|Riverside Dr & W ...|           40.78720869|           -73.98128127|          3357|W 106 St & Amster...|          40.8008363|       -73.9664492472|  21100|Subscriber|      1979|     1|\n",
      "|          718|2017-01-01 00:17:50|2017-01-01 00:29:48|            3147|     E 85 St & 3 Ave|           40.77801203|           -73.95407149|          3135|     E 75 St & 3 Ave|         40.77112927|         -73.95772297|  27134|Subscriber|      1963|     1|\n",
      "|         1302|2017-01-01 00:17:51|2017-01-01 00:39:33|            3161|W 76 St & Columbu...|      40.7801839724239|     -73.97728532552719|           448|    W 37 St & 10 Ave|         40.75660359|          -73.9979009|  25476|Subscriber|      1980|     2|\n",
      "|         1305|2017-01-01 00:17:51|2017-01-01 00:39:37|            3161|W 76 St & Columbu...|      40.7801839724239|     -73.97728532552719|           448|    W 37 St & 10 Ave|         40.75660359|          -73.9979009|  16862|Subscriber|      1975|     1|\n",
      "|           81|2017-01-01 00:17:57|2017-01-01 00:19:18|            3137|     5 Ave & E 73 St|           40.77282817|           -73.96685276|          3137|     5 Ave & E 73 St|         40.77282817|         -73.96685276|  17507|Subscriber|      1969|     1|\n",
      "|          564|2017-01-01 00:18:06|2017-01-01 00:27:31|            3169|Riverside Dr & W ...|           40.78720869|           -73.98128127|          3357|W 106 St & Amster...|          40.8008363|       -73.9664492472|  27119|Subscriber|      1985|     2|\n",
      "|          250|2017-01-01 00:19:24|2017-01-01 00:23:34|            3379|E 103 St & Lexing...|            40.7903051|           -73.94755757|          3400|E 110 St & Madiso...|          40.7961535|         -73.94782145|  25047|Subscriber|      1985|     2|\n",
      "|         2477|2017-01-01 00:20:18|2017-01-01 01:01:35|            3137|     5 Ave & E 73 St|           40.77282817|           -73.96685276|          3170|W 84 St & Columbu...|         40.78499979|         -73.97283406|  17507|Subscriber|      1969|     1|\n",
      "|          455|2017-01-01 00:20:21|2017-01-01 00:27:57|            3343|W 107 St & Columb...|            40.7997568|         -73.9621128676|          3350| W 100 St & Broadway|          40.7973721|         -73.97041192|  26512|Subscriber|      1963|     2|\n",
      "|          400|2017-01-01 00:21:12|2017-01-01 00:27:52|            3343|W 107 St & Columb...|            40.7997568|         -73.9621128676|          3350| W 100 St & Broadway|          40.7973721|         -73.97041192|  26805|Subscriber|      1964|     1|\n",
      "|          478|2017-01-01 00:21:14|2017-01-01 00:29:12|            3162|  W 78 St & Broadway|           40.78339981|           -73.98093133|          3307|West End Ave & W ...|          40.7941654|           -73.974124|  25916|Subscriber|      1968|     1|\n",
      "|          123|2017-01-01 00:21:21|2017-01-01 00:23:24|            3164|Columbus Ave & W ...|            40.7770575|           -73.97898475|          3175|W 70 St & Amsterd...|         40.77748046|         -73.98288594|  19570|Subscriber|      1966|     1|\n",
      "|         1837|2017-01-01 00:22:36|2017-01-01 00:53:14|            3143|     5 Ave & E 78 St|     40.77682863439968|     -73.96388769149779|           475| E 16 St & Irving Pl|         40.73524276|         -73.98758561|  20645|Subscriber|      1984|     1|\n",
      "|         2339|2017-01-01 00:23:37|2017-01-01 01:02:37|            3143|     5 Ave & E 78 St|     40.77682863439968|     -73.96388769149779|           174|     E 25 St & 1 Ave|          40.7381765|         -73.97738662|  22784|Subscriber|      1970|     1|\n",
      "|         1767|2017-01-01 00:23:40|2017-01-01 00:53:07|            3143|     5 Ave & E 78 St|     40.77682863439968|     -73.96388769149779|           475| E 16 St & Irving Pl|         40.73524276|         -73.98758561|  23068|Subscriber|      1984|     2|\n",
      "|         2432|2017-01-01 00:23:51|2017-01-01 01:04:24|            3168|Central Park West...|           40.78472675|           -73.96961715|           346| Bank St & Hudson St|         40.73652889|         -74.00618026|  16887|Subscriber|      1946|     1|\n",
      "|         2444|2017-01-01 00:23:59|2017-01-01 01:04:44|            3168|Central Park West...|           40.78472675|           -73.96961715|           346| Bank St & Hudson St|         40.73652889|         -74.00618026|  19062|Subscriber|      1948|     2|\n",
      "|         2322|2017-01-01 00:23:59|2017-01-01 01:02:42|            3143|     5 Ave & E 78 St|     40.77682863439968|     -73.96388769149779|           174|     E 25 St & 1 Ave|          40.7381765|         -73.97738662|  16832|Subscriber|      1968|     2|\n",
      "|          777|2017-01-01 00:24:22|2017-01-01 00:37:19|            3160|Central Park West...|           40.77896784|           -73.97374737|          3341|Central Park West...|           40.795346|            -73.96186|  22853|Subscriber|      1953|     2|\n",
      "|         1306|2017-01-01 00:24:30|2017-01-01 00:46:16|            3172|W 74 St & Columbu...|            40.7785669|           -73.97754961|           509|     9 Ave & W 22 St|          40.7454973|         -74.00197139|  27033|Subscriber|      1973|     1|\n",
      "|         1307|2017-01-01 00:24:32|2017-01-01 00:46:19|            3172|W 74 St & Columbu...|            40.7785669|           -73.97754961|           509|     9 Ave & W 22 St|          40.7454973|         -74.00197139|  22458|Subscriber|      1975|     2|\n",
      "|         2198|2017-01-01 00:26:22|2017-01-01 01:03:01|            3143|     5 Ave & E 78 St|     40.77682863439968|     -73.96388769149779|           174|     E 25 St & 1 Ave|          40.7381765|         -73.97738662|  17788|Subscriber|      1999|     1|\n",
      "|         1155|2017-01-01 00:26:50|2017-01-01 00:46:05|             499|  Broadway & W 60 St|           40.76915505|           -73.98191841|          3259|     9 Ave & W 28 St|   40.74937024193277|   -73.99923384189606|  17748|Subscriber|      1985|     2|\n",
      "|          739|2017-01-01 00:27:14|2017-01-01 00:39:34|            3143|     5 Ave & E 78 St|     40.77682863439968|     -73.96388769149779|           441|     E 52 St & 2 Ave|           40.756014|           -73.967416|  14672|Subscriber|      1974|     1|\n",
      "|          307|2017-01-01 00:28:13|2017-01-01 00:33:20|            3366|West End Ave & W ...|            40.8021174|         -73.9681805305|          3323|W 106 St & Centra...|          40.7981856|       -73.9605909006|  16668|Subscriber|      1967|     1|\n",
      "|          443|2017-01-01 00:28:22|2017-01-01 00:35:46|            3164|Columbus Ave & W ...|            40.7770575|           -73.97898475|          3165|Central Park West...|   40.77579376683666|    -73.9762057363987|  25196|Subscriber|      1994|     2|\n",
      "|          297|2017-01-01 00:28:23|2017-01-01 00:33:20|            3366|West End Ave & W ...|            40.8021174|         -73.9681805305|          3323|W 106 St & Centra...|          40.7981856|       -73.9605909006|  20239|Subscriber|      1969|     1|\n",
      "|          794|2017-01-01 00:28:50|2017-01-01 00:42:04|            3147|     E 85 St & 3 Ave|           40.77801203|           -73.95407149|           385|     E 55 St & 2 Ave|         40.75797322|         -73.96603308|  16461|Subscriber|      1970|     1|\n",
      "|         1331|2017-01-01 00:29:29|2017-01-01 00:51:41|            3168|Central Park West...|           40.78472675|           -73.96961715|          3168|Central Park West...|         40.78472675|         -73.96961715|  26780|Subscriber|      1971|     1|\n",
      "|          659|2017-01-01 00:30:55|2017-01-01 00:41:55|            3264|  E 61 St & Park Ave|    40.764210071690634|     -73.96910458803177|          3140|     1 Ave & E 78 St|         40.77140426|          -73.9535166|  18925|Subscriber|      1976|     1|\n",
      "|         1380|2017-01-01 00:31:43|2017-01-01 00:54:44|             499|  Broadway & W 60 St|           40.76915505|           -73.98191841|           426|West St & Chamber...|         40.71754834|         -74.01322069|  27208|Subscriber|      1987|     1|\n",
      "|          263|2017-01-01 00:32:22|2017-01-01 00:36:46|            3168|Central Park West...|           40.78472675|           -73.96961715|          3177|  W 84 St & Broadway|          40.7867947|           -73.977112|  25237|Subscriber|      1974|     1|\n",
      "|         1090|2017-01-01 00:32:28|2017-01-01 00:50:38|            3164|Columbus Ave & W ...|            40.7770575|           -73.97898475|           488|     W 39 St & 9 Ave|         40.75645824|         -73.99372222|  16311|  Customer|      null|     0|\n",
      "|          358|2017-01-01 00:33:09|2017-01-01 00:39:07|             305|     E 58 St & 3 Ave|           40.76095756|           -73.96724467|           519|Pershing Square N...|           40.751873|           -73.977706|  15363|Subscriber|      1962|     1|\n",
      "|         1036|2017-01-01 00:33:19|2017-01-01 00:50:35|            3164|Columbus Ave & W ...|            40.7770575|           -73.97898475|           488|     W 39 St & 9 Ave|         40.75645824|         -73.99372222|  26093|  Customer|      null|     0|\n",
      "|         1934|2017-01-01 00:33:22|2017-01-01 01:05:36|            3158|  W 63 St & Broadway|           40.77163851|           -73.98261428|          3233|     E 48 St & 5 Ave|   40.75724567911726|   -73.97805914282799|  15365|Subscriber|      1975|     1|\n",
      "|         1525|2017-01-01 00:33:31|2017-01-01 00:58:56|            3223|     E 55 St & 3 Ave|    40.758996559605116|     -73.96865397691727|          3226|W 82 St & Central...|            40.78275|            -73.97137|  18229|Subscriber|      1980|     1|\n",
      "|         2938|2017-01-01 00:33:31|2017-01-01 01:22:29|            3163|Central Park West...|            40.7734066|           -73.97782542|          3434|W 88 St & West En...|   40.79025417330419|   -73.97718340158461|  20845|Subscriber|      1977|     1|\n",
      "|          880|2017-01-01 00:33:42|2017-01-01 00:48:22|            3165|Central Park West...|     40.77579376683666|      -73.9762057363987|          3285|W 87 St  & Amster...|            40.78839|             -73.9747|  21222|Subscriber|      1951|     1|\n",
      "|         1159|2017-01-01 00:34:19|2017-01-01 00:53:39|            3137|     5 Ave & E 73 St|           40.77282817|           -73.96685276|          3390|    E 109 St & 3 Ave|         40.79329668|          -73.9432083|  14779|Subscriber|      1961|     2|\n",
      "|         1654|2017-01-01 00:35:04|2017-01-01 01:02:39|            3139|  E 72 St & Park Ave|     40.77118287540658|     -73.96409422159195|           228|     E 48 St & 3 Ave|       40.7546011026|        -73.971878855|  21535|  Customer|      null|     0|\n",
      "+-------------+-------------------+-------------------+----------------+--------------------+----------------------+-----------------------+--------------+--------------------+--------------------+---------------------+-------+----------+----------+------+\n",
      "only showing top 50 rows\n",
      "\n"
     ]
    }
   ],
   "source": [
    "customerCluster = {}\n",
    "for i in range(0,knum):\n",
    "    tmp = prediction.select(\"Trip Duration\", \"Start Time\", \"Stop Time\", \"Start Station ID\", \"Start Station Name\", \\\n",
    "                                        \"Start Station Latitude\", \"Start Station Longitude\", \"End Station ID\", \"End Station Name\", \"End Station Latitude\",\"End Station Longitude\",\"Bike ID\",\"User Type\",\"Birth Year\",\"Gender\")\\\n",
    "                                    .where(\"cluster =\" +  str(i))\n",
    "    customerCluster[str(i)]= tmp\n",
    "    print \"Cluster\"+str(i)\n",
    "    customerCluster[str(i)].show(50)"
   ]
  },
  {
   "cell_type": "code",
   "execution_count": 162,
   "metadata": {
    "collapsed": false
   },
   "outputs": [
    {
     "data": {
      "text/html": [
       "<div>\n",
       "<table border=\"1\" class=\"dataframe\">\n",
       "  <thead>\n",
       "    <tr style=\"text-align: right;\">\n",
       "      <th></th>\n",
       "      <th>Start Station ID</th>\n",
       "      <th>cluster</th>\n",
       "      <th>Start Station Latitude</th>\n",
       "      <th>Start Station Longitude</th>\n",
       "    </tr>\n",
       "  </thead>\n",
       "  <tbody>\n",
       "    <tr>\n",
       "      <th>0</th>\n",
       "      <td>3226</td>\n",
       "      <td>4</td>\n",
       "      <td>40.782750</td>\n",
       "      <td>-73.971370</td>\n",
       "    </tr>\n",
       "    <tr>\n",
       "      <th>1</th>\n",
       "      <td>3263</td>\n",
       "      <td>1</td>\n",
       "      <td>40.729236</td>\n",
       "      <td>-73.990868</td>\n",
       "    </tr>\n",
       "    <tr>\n",
       "      <th>2</th>\n",
       "      <td>3143</td>\n",
       "      <td>4</td>\n",
       "      <td>40.776829</td>\n",
       "      <td>-73.963888</td>\n",
       "    </tr>\n",
       "    <tr>\n",
       "      <th>3</th>\n",
       "      <td>3143</td>\n",
       "      <td>4</td>\n",
       "      <td>40.776829</td>\n",
       "      <td>-73.963888</td>\n",
       "    </tr>\n",
       "    <tr>\n",
       "      <th>4</th>\n",
       "      <td>3143</td>\n",
       "      <td>4</td>\n",
       "      <td>40.776829</td>\n",
       "      <td>-73.963888</td>\n",
       "    </tr>\n",
       "  </tbody>\n",
       "</table>\n",
       "</div>"
      ],
      "text/plain": [
       "   Start Station ID  cluster  Start Station Latitude  Start Station Longitude\n",
       "0              3226        4               40.782750               -73.971370\n",
       "1              3263        1               40.729236               -73.990868\n",
       "2              3143        4               40.776829               -73.963888\n",
       "3              3143        4               40.776829               -73.963888\n",
       "4              3143        4               40.776829               -73.963888"
      ]
     },
     "execution_count": 162,
     "metadata": {},
     "output_type": "execute_result"
    }
   ],
   "source": [
    "%matplotlib inline\n",
    "\n",
    "import matplotlib\n",
    "import matplotlib.pyplot as plt\n",
    "import pandas as pd\n",
    "import numpy as np\n",
    "from pandas.tools.plotting import scatter_matrix\n",
    "\n",
    "save1 = prediction.select(\"Start Station ID\", \"cluster\",\"Start Station Latitude\", \"Start Station Longitude\")\n",
    "ts = save1.toPandas()\n",
    "ts.head(5)"
   ]
  },
  {
   "cell_type": "code",
   "execution_count": 163,
   "metadata": {
    "collapsed": false
   },
   "outputs": [
    {
     "data": {
      "text/plain": [
       "<matplotlib.legend.Legend at 0x7fef4c7bb2d0>"
      ]
     },
     "execution_count": 163,
     "metadata": {},
     "output_type": "execute_result"
    },
    {
     "data": {
      "image/png": "[encoded data removed]",
      "text/plain": [
       "<matplotlib.figure.Figure at 0x7feef84a7210>"
      ]
     },
     "metadata": {},
     "output_type": "display_data"
    }
   ],
   "source": [
    "df = ts\n",
    "fig, ax = plt.subplots(1, 1, figsize=(6, 12))\n",
    "\n",
    "def scatter(group):\n",
    "    plt.plot(group['Start Station Longitude'],\n",
    "             group['Start Station Latitude'],\n",
    "             'o', label=group.name)\n",
    "\n",
    "df.groupby('cluster').apply(scatter)\n",
    "\n",
    "\n",
    "\n",
    "ax.set(xlabel='Start Station Longitude',\n",
    "       ylabel='Start Station Latitude',\n",
    "       title='Locations',\n",
    "       xlim=[-74.04,-73.91],\n",
    "       ylim=[40.62,40.82])\n",
    "\n",
    "ax.legend(loc=2)\n"
   ]
  },
  {
   "cell_type": "code",
   "execution_count": 164,
   "metadata": {
    "collapsed": false
   },
   "outputs": [
    {
     "data": {
      "text/html": [
       "<div>\n",
       "<table border=\"1\" class=\"dataframe\">\n",
       "  <thead>\n",
       "    <tr style=\"text-align: right;\">\n",
       "      <th></th>\n",
       "      <th>cluster</th>\n",
       "      <th>count</th>\n",
       "    </tr>\n",
       "  </thead>\n",
       "  <tbody>\n",
       "    <tr>\n",
       "      <th>0</th>\n",
       "      <td>0</td>\n",
       "      <td>325712</td>\n",
       "    </tr>\n",
       "    <tr>\n",
       "      <th>1</th>\n",
       "      <td>1</td>\n",
       "      <td>779138</td>\n",
       "    </tr>\n",
       "    <tr>\n",
       "      <th>2</th>\n",
       "      <td>2</td>\n",
       "      <td>419914</td>\n",
       "    </tr>\n",
       "    <tr>\n",
       "      <th>3</th>\n",
       "      <td>3</td>\n",
       "      <td>370922</td>\n",
       "    </tr>\n",
       "    <tr>\n",
       "      <th>4</th>\n",
       "      <td>4</td>\n",
       "      <td>350302</td>\n",
       "    </tr>\n",
       "  </tbody>\n",
       "</table>\n",
       "</div>"
      ],
      "text/plain": [
       "   cluster   count\n",
       "0        0  325712\n",
       "1        1  779138\n",
       "2        2  419914\n",
       "3        3  370922\n",
       "4        4  350302"
      ]
     },
     "execution_count": 164,
     "metadata": {},
     "output_type": "execute_result"
    }
   ],
   "source": [
    "save2 = prediction.groupBy(\"cluster\").count().orderBy(\"cluster\")\n",
    "ts2 = save2.toPandas()\n",
    "ts2.head()"
   ]
  },
  {
   "cell_type": "code",
   "execution_count": null,
   "metadata": {
    "collapsed": true
   },
   "outputs": [],
   "source": []
  },
  {
   "cell_type": "code",
   "execution_count": null,
   "metadata": {
    "collapsed": true
   },
   "outputs": [],
   "source": []
  },
  {
   "cell_type": "code",
   "execution_count": null,
   "metadata": {
    "collapsed": true
   },
   "outputs": [],
   "source": []
  }
 ],
 "metadata": {
  "kernelspec": {
   "display_name": "Python 2 with Spark 2.0",
   "language": "python",
   "name": "python2-spark20"
  }
 },
 "nbformat": 4,
 "nbformat_minor": 0
}