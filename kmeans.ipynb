{
 "cells": [
  {
   "cell_type": "code",
   "execution_count": 108,
   "metadata": {
    "collapsed": true
   },
   "outputs": [],
   "source": [
    "from pyspark.sql.types import *\n",
    "from pyspark.sql.functions import *\n",
    "\n",
    "from pyspark.ml import evaluation\n",
    "from pyspark.ml.clustering import KMeans\n",
    "from pyspark.ml.feature import VectorAssembler, StringIndexer, VectorIndexer, MinMaxScaler"
   ]
  },
  {
   "cell_type": "code",
   "execution_count": 110,
   "metadata": {
    "collapsed": false
   },
   "outputs": [
    {
     "data": {
      "text/plain": [
       "[Row(Trip Duration=u'680', Start Time=u'2017-01-01 00:00:21', Stop Time=u'2017-01-01 00:11:41', Start Station ID=u'3226', Start Station Name=u'W 82 St & Central Park West', Start Station Latitude=u'40.78275', Start Station Longitude=u'-73.97137', End Station ID=u'3165', End Station Name=u'Central Park West & W 72 St', End Station Latitude=u'40.77579376683666', End Station Longitude=u'-73.9762057363987', Bike ID=u'25542', User Type=u'Subscriber', Birth Year=u'1965', Gender=u'2'),\n",
       " Row(Trip Duration=u'1282', Start Time=u'2017-01-01 00:00:45', Stop Time=u'2017-01-01 00:22:08', Start Station ID=u'3263', Start Station Name=u'Cooper Square & E 7 St', Start Station Latitude=u'40.72923649910006', Start Station Longitude=u'-73.99086803197861', End Station ID=u'498', End Station Name=u'Broadway & W 32 St', End Station Latitude=u'40.74854862', End Station Longitude=u'-73.98808416', Bike ID=u'21136', User Type=u'Subscriber', Birth Year=u'1987', Gender=u'2'),\n",
       " Row(Trip Duration=u'648', Start Time=u'2017-01-01 00:00:57', Stop Time=u'2017-01-01 00:11:46', Start Station ID=u'3143', Start Station Name=u'5 Ave & E 78 St', Start Station Latitude=u'40.77682863439968', Start Station Longitude=u'-73.96388769149779', End Station ID=u'3152', End Station Name=u'3 Ave & E 71 St', End Station Latitude=u'40.76873687', End Station Longitude=u'-73.96119945', Bike ID=u'18147', User Type=u'Customer', Birth Year=None, Gender=u'0'),\n",
       " Row(Trip Duration=u'631', Start Time=u'2017-01-01 00:01:10', Stop Time=u'2017-01-01 00:11:42', Start Station ID=u'3143', Start Station Name=u'5 Ave & E 78 St', Start Station Latitude=u'40.77682863439968', Start Station Longitude=u'-73.96388769149779', End Station ID=u'3152', End Station Name=u'3 Ave & E 71 St', End Station Latitude=u'40.76873687', End Station Longitude=u'-73.96119945', Bike ID=u'21211', User Type=u'Customer', Birth Year=None, Gender=u'0'),\n",
       " Row(Trip Duration=u'621', Start Time=u'2017-01-01 00:01:25', Stop Time=u'2017-01-01 00:11:47', Start Station ID=u'3143', Start Station Name=u'5 Ave & E 78 St', Start Station Latitude=u'40.77682863439968', Start Station Longitude=u'-73.96388769149779', End Station ID=u'3152', End Station Name=u'3 Ave & E 71 St', End Station Latitude=u'40.76873687', End Station Longitude=u'-73.96119945', Bike ID=u'26819', User Type=u'Customer', Birth Year=None, Gender=u'0')]"
      ]
     },
     "execution_count": 110,
     "metadata": {},
     "output_type": "execute_result"
    }
   ],
   "source": [
    "from pyspark.sql import SparkSession\n",
    "\n",
    "# @hidden_cell\n",
    "# This function is used to setup the access of Spark to your Object Storage. The definition contains your credentials.\n",
    "# You might want to remove those credentials before you share your notebook.\n",
    "def set_hadoop_config_with_credentials_6f87b1d25f3b4023bbd4eb9a54f4fa7c(name):\n",
    "    \"\"\"This function sets the Hadoop configuration so it is possible to\n",
    "    access data from Bluemix Object Storage using Spark\"\"\"\n",
    "\n",
    "    prefix = 'fs.swift.service.' + name\n",
    "    hconf = sc._jsc.hadoopConfiguration()\n",
    "    hconf.set(prefix + '.auth.url', 'https://identity.open.softlayer.com'+'/v3/auth/tokens')\n",
    "    hconf.set(prefix + '.auth.endpoint.prefix', 'endpoints')\n",
    "    hconf.set(prefix + '.tenant', '5bf68650a13f47d9a10fb4d0f20e1c05')\n",
    "    hconf.set(prefix + '.username', 'f2e695ab5f6e43d3a7e569148c5cd27a')\n",
    "    hconf.set(prefix + '.password', 'Xi(3#zNmtL51Td[T')\n",
    "    hconf.setInt(prefix + '.http.port', 8080)\n",
    "    hconf.set(prefix + '.region', 'dallas')\n",
    "    hconf.setBoolean(prefix + '.public', False)\n",
    "\n",
    "# you can choose any name\n",
    "name = 'keystone'\n",
    "set_hadoop_config_with_credentials_6f87b1d25f3b4023bbd4eb9a54f4fa7c(name)\n",
    "\n",
    "spark = SparkSession.builder.getOrCreate()\n",
    "\n",
    "df_data_1 = spark.read\\\n",
    "  .format('org.apache.spark.sql.execution.datasources.csv.CSVFileFormat')\\\n",
    "  .option('header', 'true')\\\n",
    "  .load('swift://bikeshare.' + name + '/all_keywords.csv')\n",
    "df_data_1.take(5)\n",
    "df_data_2 = spark.read\\\n",
    "  .format('org.apache.spark.sql.execution.datasources.csv.CSVFileFormat')\\\n",
    "  .option('header', 'true')\\\n",
    "  .load('swift://bikeshare.' + name + '/all_keywords.csv')\n",
    "df_data_2.take(5)\n"
   ]
  },
  {
   "cell_type": "code",
   "execution_count": 112,
   "metadata": {
    "collapsed": false
   },
   "outputs": [],
   "source": [
    "bikeshare = spark.read.csv('swift://bikeshare.' + name + '/all_keywords.csv', header=\"true\", inferSchema=\"true\",mode=\"DROPMALFORMED\")"
   ]
  },
  {
   "cell_type": "code",
   "execution_count": 113,
   "metadata": {
    "collapsed": false
   },
   "outputs": [
    {
     "name": "stdout",
     "output_type": "stream",
     "text": [
      "+-------------+-------------------+-------------------+----------------+--------------------+----------------------+-----------------------+--------------+--------------------+--------------------+---------------------+-------+----------+----------+------+\n",
      "|Trip Duration|         Start Time|          Stop Time|Start Station ID|  Start Station Name|Start Station Latitude|Start Station Longitude|End Station ID|    End Station Name|End Station Latitude|End Station Longitude|Bike ID| User Type|Birth Year|Gender|\n",
      "+-------------+-------------------+-------------------+----------------+--------------------+----------------------+-----------------------+--------------+--------------------+--------------------+---------------------+-------+----------+----------+------+\n",
      "|          680|2017-01-01 00:00:21|2017-01-01 00:11:41|            3226|W 82 St & Central...|              40.78275|              -73.97137|          3165|Central Park West...|   40.77579376683666|    -73.9762057363987|  25542|Subscriber|      1965|     2|\n",
      "|         1282|2017-01-01 00:00:45|2017-01-01 00:22:08|            3263|Cooper Square & E...|     40.72923649910006|     -73.99086803197861|           498|  Broadway & W 32 St|         40.74854862|         -73.98808416|  21136|Subscriber|      1987|     2|\n",
      "|          648|2017-01-01 00:00:57|2017-01-01 00:11:46|            3143|     5 Ave & E 78 St|     40.77682863439968|     -73.96388769149779|          3152|     3 Ave & E 71 St|         40.76873687|         -73.96119945|  18147|  Customer|      null|     0|\n",
      "|          631|2017-01-01 00:01:10|2017-01-01 00:11:42|            3143|     5 Ave & E 78 St|     40.77682863439968|     -73.96388769149779|          3152|     3 Ave & E 71 St|         40.76873687|         -73.96119945|  21211|  Customer|      null|     0|\n",
      "|          621|2017-01-01 00:01:25|2017-01-01 00:11:47|            3143|     5 Ave & E 78 St|     40.77682863439968|     -73.96388769149779|          3152|     3 Ave & E 71 St|         40.76873687|         -73.96119945|  26819|  Customer|      null|     0|\n",
      "+-------------+-------------------+-------------------+----------------+--------------------+----------------------+-----------------------+--------------+--------------------+--------------------+---------------------+-------+----------+----------+------+\n",
      "only showing top 5 rows\n",
      "\n"
     ]
    }
   ],
   "source": [
    "bikeshare.show(5)"
   ]
  },
  {
   "cell_type": "code",
   "execution_count": 114,
   "metadata": {
    "collapsed": false
   },
   "outputs": [
    {
     "name": "stdout",
     "output_type": "stream",
     "text": [
      "Model Created!\n"
     ]
    }
   ],
   "source": [
    "assembler = VectorAssembler(inputCols = [\"Start Station Latitude\",\"Start Station Longitude\"], outputCol=\"features\")\n",
    "train = assembler.transform(bikeshare)\n",
    "\n",
    "knum = 5\n",
    "kmeans = KMeans(featuresCol=assembler.getOutputCol(), predictionCol=\"cluster\", k=knum, seed=456789)\n",
    "model = kmeans.fit(train)\n",
    "print \"Model Created!\""
   ]
  },
  {
   "cell_type": "code",
   "execution_count": 115,
   "metadata": {
    "collapsed": false
   },
   "outputs": [
    {
     "name": "stdout",
     "output_type": "stream",
     "text": [
      "Cluster Centers: \n",
      "[ 40.72839126 -73.97171605]\n",
      "[ 0.  0.]\n",
      "[ 40.7303193  -73.99846003]\n",
      "[ 40.76479815 -73.97713413]\n",
      "[ 40.68620228 -73.97968312]\n"
     ]
    }
   ],
   "source": [
    "centers = model.clusterCenters()\n",
    "print(\"Cluster Centers: \")\n",
    "for center in centers:\n",
    "    print(center)"
   ]
  },
  {
   "cell_type": "code",
   "execution_count": 116,
   "metadata": {
    "collapsed": false
   },
   "outputs": [
    {
     "name": "stdout",
     "output_type": "stream",
     "text": [
      "+-------+------+\n",
      "|cluster| count|\n",
      "+-------+------+\n",
      "|      0|351316|\n",
      "|      1|     2|\n",
      "|      2|907010|\n",
      "|      3|754900|\n",
      "|      4|232760|\n",
      "+-------+------+\n",
      "\n"
     ]
    }
   ],
   "source": [
    "prediction = model.transform(train)\n",
    "prediction.groupBy(\"cluster\").count().orderBy(\"cluster\").show()"
   ]
  },
  {
   "cell_type": "code",
   "execution_count": 117,
   "metadata": {
    "collapsed": false
   },
   "outputs": [
    {
     "name": "stdout",
     "output_type": "stream",
     "text": [
      "+----------------+-------+\n",
      "|Start Station ID|cluster|\n",
      "+----------------+-------+\n",
      "|            3226|      3|\n",
      "|            3263|      2|\n",
      "|            3143|      3|\n",
      "|            3143|      3|\n",
      "|            3143|      3|\n",
      "|            3163|      3|\n",
      "|             499|      3|\n",
      "|             362|      3|\n",
      "|             430|      4|\n",
      "|            3165|      3|\n",
      "|             528|      0|\n",
      "|             474|      2|\n",
      "|             524|      3|\n",
      "|             297|      2|\n",
      "|             515|      3|\n",
      "|            3172|      3|\n",
      "|             515|      3|\n",
      "|             423|      3|\n",
      "|             267|      3|\n",
      "|             369|      2|\n",
      "|            3139|      3|\n",
      "|             279|      2|\n",
      "|             301|      0|\n",
      "|             128|      2|\n",
      "|             449|      3|\n",
      "|             449|      3|\n",
      "|             449|      3|\n",
      "|             153|      3|\n",
      "|             368|      2|\n",
      "|             513|      3|\n",
      "|             449|      3|\n",
      "|             449|      3|\n",
      "|             523|      3|\n",
      "|            3255|      2|\n",
      "|             523|      3|\n",
      "|             482|      2|\n",
      "|            3429|      4|\n",
      "|             473|      2|\n",
      "|             516|      3|\n",
      "|             472|      3|\n",
      "|             472|      3|\n",
      "|            3349|      4|\n",
      "|            3349|      4|\n",
      "|            3349|      4|\n",
      "|             478|      3|\n",
      "|             442|      2|\n",
      "|             466|      2|\n",
      "|             442|      2|\n",
      "|            3349|      4|\n",
      "|            3349|      4|\n",
      "+----------------+-------+\n",
      "only showing top 50 rows\n",
      "\n"
     ]
    }
   ],
   "source": [
    "prediction.select(\"Start Station ID\", \"cluster\").show(50)"
   ]
  },
  {
   "cell_type": "code",
   "execution_count": 118,
   "metadata": {
    "collapsed": false
   },
   "outputs": [
    {
     "name": "stdout",
     "output_type": "stream",
     "text": [
      "Cluster0\n",
      "+-------------+-------------------+-------------------+----------------+--------------------+----------------------+-----------------------+--------------+--------------------+--------------------+---------------------+-------+----------+----------+------+\n",
      "|Trip Duration|         Start Time|          Stop Time|Start Station ID|  Start Station Name|Start Station Latitude|Start Station Longitude|End Station ID|    End Station Name|End Station Latitude|End Station Longitude|Bike ID| User Type|Birth Year|Gender|\n",
      "+-------------+-------------------+-------------------+----------------+--------------------+----------------------+-----------------------+--------------+--------------------+--------------------+---------------------+-------+----------+----------+------+\n",
      "|         1081|2017-01-01 00:07:49|2017-01-01 00:25:50|             528|     2 Ave & E 31 St|           40.74290902|           -73.97706058|           526|     E 33 St & 5 Ave|         40.74765947|         -73.98490707|  26138|Subscriber|      1993|     1|\n",
      "|          570|2017-01-01 00:10:50|2017-01-01 00:20:20|             301|   E 2 St & Avenue B|           40.72217444|           -73.98368779|           301|   E 2 St & Avenue B|         40.72217444|         -73.98368779|  21400|Subscriber|      1996|     1|\n",
      "|          301|2017-01-01 00:17:50|2017-01-01 00:22:52|             389| Broadway & Berry St|           40.71044554|           -73.96525063|          3073|Division Ave & Ho...|         40.70691254|         -73.95441667|  18369|Subscriber|      1983|     2|\n",
      "|         1169|2017-01-01 00:19:39|2017-01-01 00:39:09|             445|  E 10 St & Avenue A|           40.72740794|           -73.98142006|          3243|     E 58 St & 1 Ave|   40.75892386377695|   -73.96226227283478|  23288|Subscriber|      1992|     1|\n",
      "|          373|2017-01-01 00:23:33|2017-01-01 00:29:47|             502| Henry St & Grand St|             40.714215|             -73.981346|           350|Clinton St & Gran...|         40.71559509|          -73.9870295|  14555|Subscriber|      1971|     2|\n",
      "|         1282|2017-01-01 00:23:35|2017-01-01 00:44:58|             532|     S 5 Pl & S 4 St|             40.710451|             -73.960876|           416|Cumberland St & L...|         40.68753406|         -73.97265183|  26359|Subscriber|      1975|     1|\n",
      "|         1190|2017-01-01 00:23:57|2017-01-01 00:43:48|             532|     S 5 Pl & S 4 St|             40.710451|             -73.960876|           416|Cumberland St & L...|         40.68753406|         -73.97265183|  26099|Subscriber|      1975|     1|\n",
      "|         1034|2017-01-01 00:24:07|2017-01-01 00:41:21|             326|     E 11 St & 1 Ave|           40.72953837|           -73.98426726|           448|    W 37 St & 10 Ave|         40.75660359|          -73.9979009|  26787|Subscriber|      1973|     1|\n",
      "|          361|2017-01-01 00:24:21|2017-01-01 00:30:23|             461|     E 20 St & 2 Ave|           40.73587678|           -73.98205027|           439|      E 4 St & 2 Ave|          40.7262807|         -73.98978041|  20968|Subscriber|      1962|     1|\n",
      "|          230|2017-01-01 00:25:39|2017-01-01 00:29:30|            3078|Broadway & Roebli...|           40.70925562|           -73.95982218|          3069|Lorimer St & Broa...|         40.70411791|         -73.94818595|  24151|Subscriber|      1996|     1|\n",
      "+-------------+-------------------+-------------------+----------------+--------------------+----------------------+-----------------------+--------------+--------------------+--------------------+---------------------+-------+----------+----------+------+\n",
      "only showing top 10 rows\n",
      "\n",
      "Cluster1\n",
      "+-------------+-------------------+-------------------+----------------+--------------------+----------------------+-----------------------+--------------+--------------------+--------------------+---------------------+-------+----------+----------+------+\n",
      "|Trip Duration|         Start Time|          Stop Time|Start Station ID|  Start Station Name|Start Station Latitude|Start Station Longitude|End Station ID|    End Station Name|End Station Latitude|End Station Longitude|Bike ID| User Type|Birth Year|Gender|\n",
      "+-------------+-------------------+-------------------+----------------+--------------------+----------------------+-----------------------+--------------+--------------------+--------------------+---------------------+-------+----------+----------+------+\n",
      "|          100|2017-01-30 17:36:54|2017-01-30 17:38:34|            3446|NYCBS Depot - STY...|                   0.0|                    0.0|          3446|NYCBS Depot - STY...|                 0.0|                  0.0|  24956|Subscriber|      1987|     1|\n",
      "|          271|2017-01-30 19:14:48|2017-01-30 19:19:19|            3446|NYCBS Depot - STY...|                   0.0|                    0.0|          3446|NYCBS Depot - STY...|                 0.0|                  0.0|  25505|Subscriber|      1992|     1|\n",
      "+-------------+-------------------+-------------------+----------------+--------------------+----------------------+-----------------------+--------------+--------------------+--------------------+---------------------+-------+----------+----------+------+\n",
      "\n",
      "Cluster2\n",
      "+-------------+-------------------+-------------------+----------------+--------------------+----------------------+-----------------------+--------------+--------------------+--------------------+---------------------+-------+----------+----------+------+\n",
      "|Trip Duration|         Start Time|          Stop Time|Start Station ID|  Start Station Name|Start Station Latitude|Start Station Longitude|End Station ID|    End Station Name|End Station Latitude|End Station Longitude|Bike ID| User Type|Birth Year|Gender|\n",
      "+-------------+-------------------+-------------------+----------------+--------------------+----------------------+-----------------------+--------------+--------------------+--------------------+---------------------+-------+----------+----------+------+\n",
      "|         1282|2017-01-01 00:00:45|2017-01-01 00:22:08|            3263|Cooper Square & E...|     40.72923649910006|     -73.99086803197861|           498|  Broadway & W 32 St|         40.74854862|         -73.98808416|  21136|Subscriber|      1987|     2|\n",
      "|          479|2017-01-01 00:08:00|2017-01-01 00:15:59|             474|     5 Ave & E 29 St|            40.7451677|           -73.98683077|          3259|     9 Ave & W 28 St|   40.74937024193277|   -73.99923384189606|  19728|Subscriber|      1973|     1|\n",
      "|          738|2017-01-01 00:08:50|2017-01-01 00:21:09|             297|     E 15 St & 3 Ave|             40.734232|             -73.986923|           355|Bayard St & Baxte...|         40.71602118|         -73.99974372|  23874|Subscriber|      1996|     1|\n",
      "|         1231|2017-01-01 00:09:59|2017-01-01 00:30:31|             369|Washington Pl & 6...|           40.73224119|           -74.00026394|           306|Cliff St & Fulton St|         40.70823502|         -74.00530063|  21128|Subscriber|      1969|     1|\n",
      "|          229|2017-01-01 00:10:50|2017-01-01 00:14:40|             279|Peck Slip & Front St|             40.707873|              -74.00167|           308|St James Pl & Oli...|         40.71307916|         -73.99851193|  18417|Subscriber|      1974|     1|\n",
      "|          207|2017-01-01 00:10:53|2017-01-01 00:14:20|             128|MacDougal St & Pr...|           40.72710258|           -74.00297088|           229|      Great Jones St|         40.72743423|         -73.99379025|  26577|Subscriber|      1991|     1|\n",
      "|         1173|2017-01-01 00:12:40|2017-01-01 00:32:14|             368|  Carmine St & 6 Ave|           40.73038599|           -74.00214988|           524|     W 43 St & 6 Ave|         40.75527307|         -73.98316936|  26003|Subscriber|      1991|     1|\n",
      "|         2325|2017-01-01 00:13:34|2017-01-01 00:52:19|            3255|     8 Ave & W 31 St|      40.7505853470215|      -73.9946848154068|           532|     S 5 Pl & S 4 St|           40.710451|           -73.960876|  17252|Subscriber|      1980|     2|\n",
      "|          629|2017-01-01 00:13:35|2017-01-01 00:24:04|             482|     W 15 St & 7 Ave|           40.73935542|           -73.99931783|          3263|Cooper Square & E...|   40.72923649910006|   -73.99086803197861|  23837|Subscriber|      1943|     1|\n",
      "|          337|2017-01-01 00:14:32|2017-01-01 00:20:09|             473|Rivington St & Ch...|           40.72110063|            -73.9919254|           410|Suffolk St & Stan...|         40.72066442|         -73.98517977|  17108|Subscriber|      1989|     1|\n",
      "+-------------+-------------------+-------------------+----------------+--------------------+----------------------+-----------------------+--------------+--------------------+--------------------+---------------------+-------+----------+----------+------+\n",
      "only showing top 10 rows\n",
      "\n",
      "Cluster3\n",
      "+-------------+-------------------+-------------------+----------------+--------------------+----------------------+-----------------------+--------------+--------------------+--------------------+---------------------+-------+----------+----------+------+\n",
      "|Trip Duration|         Start Time|          Stop Time|Start Station ID|  Start Station Name|Start Station Latitude|Start Station Longitude|End Station ID|    End Station Name|End Station Latitude|End Station Longitude|Bike ID| User Type|Birth Year|Gender|\n",
      "+-------------+-------------------+-------------------+----------------+--------------------+----------------------+-----------------------+--------------+--------------------+--------------------+---------------------+-------+----------+----------+------+\n",
      "|          680|2017-01-01 00:00:21|2017-01-01 00:11:41|            3226|W 82 St & Central...|              40.78275|              -73.97137|          3165|Central Park West...|   40.77579376683666|    -73.9762057363987|  25542|Subscriber|      1965|     2|\n",
      "|          648|2017-01-01 00:00:57|2017-01-01 00:11:46|            3143|     5 Ave & E 78 St|     40.77682863439968|     -73.96388769149779|          3152|     3 Ave & E 71 St|         40.76873687|         -73.96119945|  18147|  Customer|      null|     0|\n",
      "|          631|2017-01-01 00:01:10|2017-01-01 00:11:42|            3143|     5 Ave & E 78 St|     40.77682863439968|     -73.96388769149779|          3152|     3 Ave & E 71 St|         40.76873687|         -73.96119945|  21211|  Customer|      null|     0|\n",
      "|          621|2017-01-01 00:01:25|2017-01-01 00:11:47|            3143|     5 Ave & E 78 St|     40.77682863439968|     -73.96388769149779|          3152|     3 Ave & E 71 St|         40.76873687|         -73.96119945|  26819|  Customer|      null|     0|\n",
      "|          666|2017-01-01 00:01:51|2017-01-01 00:12:57|            3163|Central Park West...|            40.7734066|           -73.97782542|          3163|Central Park West...|          40.7734066|         -73.97782542|  16050|Subscriber|      2000|     1|\n",
      "|          559|2017-01-01 00:05:00|2017-01-01 00:14:20|             499|  Broadway & W 60 St|           40.76915505|           -73.98191841|           479|     9 Ave & W 45 St|         40.76019252|          -73.9912551|  27294|Subscriber|      1973|     1|\n",
      "|          826|2017-01-01 00:05:37|2017-01-01 00:19:24|             362|  Broadway & W 37 St|           40.75172632|           -73.98753523|           445|  E 10 St & Avenue A|         40.72740794|         -73.98142006|  23288|Subscriber|      1977|     2|\n",
      "|          634|2017-01-01 00:07:34|2017-01-01 00:18:08|            3165|Central Park West...|     40.77579376683666|      -73.9762057363987|          3164|Columbus Ave & W ...|          40.7770575|         -73.97898475|  16311|Subscriber|      1980|     1|\n",
      "|         2005|2017-01-01 00:05:57|2017-01-01 00:39:23|             524|     W 43 St & 6 Ave|           40.75527307|           -73.98316936|          3325|     E 95 St & 3 Ave|          40.7849032|           -73.950503|  17171|Subscriber|      1992|     1|\n",
      "|          901|2017-01-01 00:09:18|2017-01-01 00:24:20|             515|    W 43 St & 10 Ave|           40.76009437|           -73.99461843|          3428|     8 Ave & W 16 St|           40.740983|           -74.001702|  26501|Subscriber|      1964|     1|\n",
      "+-------------+-------------------+-------------------+----------------+--------------------+----------------------+-----------------------+--------------+--------------------+--------------------+---------------------+-------+----------+----------+------+\n",
      "only showing top 10 rows\n",
      "\n",
      "Cluster4\n",
      "+-------------+-------------------+-------------------+----------------+--------------------+----------------------+-----------------------+--------------+--------------------+--------------------+---------------------+-------+----------+----------+------+\n",
      "|Trip Duration|         Start Time|          Stop Time|Start Station ID|  Start Station Name|Start Station Latitude|Start Station Longitude|End Station ID|    End Station Name|End Station Latitude|End Station Longitude|Bike ID| User Type|Birth Year|Gender|\n",
      "+-------------+-------------------+-------------------+----------------+--------------------+----------------------+-----------------------+--------------+--------------------+--------------------+---------------------+-------+----------+----------+------+\n",
      "|          255|2017-01-01 00:05:47|2017-01-01 00:10:02|             430|    York St & Jay St|            40.7014851|           -73.98656928|           242|Carlton Ave & Flu...|           40.697787|           -73.973736|  25041|Subscriber|      1989|     1|\n",
      "|          335|2017-01-01 00:14:20|2017-01-01 00:19:55|            3429|Hanson Pl & Ashla...|     40.68506807308177|     -73.97790759801863|           270|Adelphi St & Myrt...|         40.69308257|         -73.97178913|  26119|Subscriber|      1990|     1|\n",
      "|          485|2017-01-01 00:15:08|2017-01-01 00:23:13|            3349|Grand Army Plaza ...|            40.6729679|           -73.97087984|          3414|Bergen St & Flatb...|  40.680944723477296|   -73.97567331790923|  17587|Subscriber|      1995|     2|\n",
      "|          486|2017-01-01 00:15:12|2017-01-01 00:23:19|            3349|Grand Army Plaza ...|            40.6729679|           -73.97087984|          3414|Bergen St & Flatb...|  40.680944723477296|   -73.97567331790923|  19764|Subscriber|      1963|     2|\n",
      "|          391|2017-01-01 00:15:17|2017-01-01 00:21:48|            3349|Grand Army Plaza ...|            40.6729679|           -73.97087984|          3417|   Baltic St & 5 Ave|          40.6795766|         -73.97854971|  18945|Subscriber|      1968|     2|\n",
      "|         1453|2017-01-01 00:17:13|2017-01-01 00:41:26|            3349|Grand Army Plaza ...|            40.6729679|           -73.97087984|           343|Clinton Ave & Flu...|            40.69794|         -73.96986848|  25744|  Customer|      null|     0|\n",
      "|         1471|2017-01-01 00:17:14|2017-01-01 00:41:46|            3349|Grand Army Plaza ...|            40.6729679|           -73.97087984|           343|Clinton Ave & Flu...|            40.69794|         -73.96986848|  27273|  Customer|      null|     0|\n",
      "|          966|2017-01-01 00:17:27|2017-01-01 00:33:34|            3319|       14 St & 5 Ave|             40.666287|           -73.98895053|           364|Lafayette Ave & C...|         40.68900443|         -73.96023854|  25525|Subscriber|      1990|     1|\n",
      "|          184|2017-01-01 00:18:46|2017-01-01 00:21:50|            3064|Myrtle Ave & Lewi...|           40.69681963|           -73.93756926|          3059|Pulaski St & Marc...|          40.6933982|           -73.939877|  19078|Subscriber|      1984|     1|\n",
      "|          236|2017-01-01 00:20:15|2017-01-01 00:24:11|            3354|3 St & Prospect P...|             40.668132|           -73.97363831|          3423|West Drive & Pros...|    40.6610633719006|   -73.97945255041122|  25423|Subscriber|      1954|     1|\n",
      "+-------------+-------------------+-------------------+----------------+--------------------+----------------------+-----------------------+--------------+--------------------+--------------------+---------------------+-------+----------+----------+------+\n",
      "only showing top 10 rows\n",
      "\n"
     ]
    }
   ],
   "source": [
    "customerCluster = {}\n",
    "for i in range(0,knum):\n",
    "    tmp = prediction.select(\"Trip Duration\", \"Start Time\", \"Stop Time\", \"Start Station ID\", \"Start Station Name\", \\\n",
    "                                        \"Start Station Latitude\", \"Start Station Longitude\", \"End Station ID\", \"End Station Name\", \"End Station Latitude\",\"End Station Longitude\",\"Bike ID\",\"User Type\",\"Birth Year\",\"Gender\")\\\n",
    "                                    .where(\"cluster =\" +  str(i))\n",
    "    customerCluster[str(i)]= tmp\n",
    "    print \"Cluster\"+str(i)\n",
    "    customerCluster[str(i)].show(10)"
   ]
  },
  {
   "cell_type": "code",
   "execution_count": 119,
   "metadata": {
    "collapsed": false
   },
   "outputs": [
    {
     "data": {
      "text/html": [
       "<div>\n",
       "<table border=\"1\" class=\"dataframe\">\n",
       "  <thead>\n",
       "    <tr style=\"text-align: right;\">\n",
       "      <th></th>\n",
       "      <th>Start Station ID</th>\n",
       "      <th>cluster</th>\n",
       "      <th>Start Station Latitude</th>\n",
       "      <th>Start Station Longitude</th>\n",
       "    </tr>\n",
       "  </thead>\n",
       "  <tbody>\n",
       "    <tr>\n",
       "      <th>0</th>\n",
       "      <td>3226</td>\n",
       "      <td>3</td>\n",
       "      <td>40.782750</td>\n",
       "      <td>-73.971370</td>\n",
       "    </tr>\n",
       "    <tr>\n",
       "      <th>1</th>\n",
       "      <td>3263</td>\n",
       "      <td>2</td>\n",
       "      <td>40.729236</td>\n",
       "      <td>-73.990868</td>\n",
       "    </tr>\n",
       "    <tr>\n",
       "      <th>2</th>\n",
       "      <td>3143</td>\n",
       "      <td>3</td>\n",
       "      <td>40.776829</td>\n",
       "      <td>-73.963888</td>\n",
       "    </tr>\n",
       "    <tr>\n",
       "      <th>3</th>\n",
       "      <td>3143</td>\n",
       "      <td>3</td>\n",
       "      <td>40.776829</td>\n",
       "      <td>-73.963888</td>\n",
       "    </tr>\n",
       "    <tr>\n",
       "      <th>4</th>\n",
       "      <td>3143</td>\n",
       "      <td>3</td>\n",
       "      <td>40.776829</td>\n",
       "      <td>-73.963888</td>\n",
       "    </tr>\n",
       "  </tbody>\n",
       "</table>\n",
       "</div>"
      ],
      "text/plain": [
       "   Start Station ID  cluster  Start Station Latitude  Start Station Longitude\n",
       "0              3226        3               40.782750               -73.971370\n",
       "1              3263        2               40.729236               -73.990868\n",
       "2              3143        3               40.776829               -73.963888\n",
       "3              3143        3               40.776829               -73.963888\n",
       "4              3143        3               40.776829               -73.963888"
      ]
     },
     "execution_count": 119,
     "metadata": {},
     "output_type": "execute_result"
    }
   ],
   "source": [
    "%matplotlib inline\n",
    "\n",
    "import matplotlib\n",
    "import matplotlib.pyplot as plt\n",
    "import pandas as pd\n",
    "import numpy as np\n",
    "from pandas.tools.plotting import scatter_matrix\n",
    "\n",
    "save1 = prediction.select(\"Start Station ID\", \"cluster\",\"Start Station Latitude\", \"Start Station Longitude\")\n",
    "ts = save1.toPandas()\n",
    "ts.head(5)"
   ]
  },
  {
   "cell_type": "code",
   "execution_count": 122,
   "metadata": {
    "collapsed": false
   },
   "outputs": [
    {
     "data": {
      "text/plain": [
       "<matplotlib.legend.Legend at 0x7f6596a36e10>"
      ]
     },
     "execution_count": 122,
     "metadata": {},
     "output_type": "execute_result"
    },
    {
     "data": {
      "image/png": "[encoded data removed]",
      "text/plain": [
       "<matplotlib.figure.Figure at 0x7f6596a36cd0>"
      ]
     },
     "metadata": {},
     "output_type": "display_data"
    }
   ],
   "source": [
    "df = ts\n",
    "fig, ax = plt.subplots(1, 1, figsize=(6, 12))\n",
    "\n",
    "def scatter(group):\n",
    "    plt.plot(group['Start Station Longitude'],\n",
    "             group['Start Station Latitude'],\n",
    "             'o', label=group.name)\n",
    "\n",
    "df.groupby('cluster').apply(scatter)\n",
    "\n",
    "\n",
    "\n",
    "ax.set(xlabel='Start Station Longitude',\n",
    "       ylabel='Start Station Latitude',\n",
    "       title='Locations',\n",
    "       xlim=[-74.04,-73.91],\n",
    "       ylim=[40.62,40.82])\n",
    "\n",
    "ax.legend(loc=2)"
   ]
  },
  {
   "cell_type": "code",
   "execution_count": 121,
   "metadata": {
    "collapsed": false
   },
   "outputs": [
    {
     "data": {
      "text/html": [
       "<div>\n",
       "<table border=\"1\" class=\"dataframe\">\n",
       "  <thead>\n",
       "    <tr style=\"text-align: right;\">\n",
       "      <th></th>\n",
       "      <th>cluster</th>\n",
       "      <th>count</th>\n",
       "    </tr>\n",
       "  </thead>\n",
       "  <tbody>\n",
       "    <tr>\n",
       "      <th>0</th>\n",
       "      <td>0</td>\n",
       "      <td>351316</td>\n",
       "    </tr>\n",
       "    <tr>\n",
       "      <th>1</th>\n",
       "      <td>1</td>\n",
       "      <td>2</td>\n",
       "    </tr>\n",
       "    <tr>\n",
       "      <th>2</th>\n",
       "      <td>2</td>\n",
       "      <td>907010</td>\n",
       "    </tr>\n",
       "    <tr>\n",
       "      <th>3</th>\n",
       "      <td>3</td>\n",
       "      <td>754900</td>\n",
       "    </tr>\n",
       "    <tr>\n",
       "      <th>4</th>\n",
       "      <td>4</td>\n",
       "      <td>232760</td>\n",
       "    </tr>\n",
       "  </tbody>\n",
       "</table>\n",
       "</div>"
      ],
      "text/plain": [
       "   cluster   count\n",
       "0        0  351316\n",
       "1        1       2\n",
       "2        2  907010\n",
       "3        3  754900\n",
       "4        4  232760"
      ]
     },
     "execution_count": 121,
     "metadata": {},
     "output_type": "execute_result"
    }
   ],
   "source": [
    "save2 = prediction.groupBy(\"cluster\").count().orderBy(\"cluster\")\n",
    "ts2 = save2.toPandas()\n",
    "ts2.head()"
   ]
  },
  {
   "cell_type": "code",
   "execution_count": null,
   "metadata": {
    "collapsed": true
   },
   "outputs": [],
   "source": []
  }
 ],
 "metadata": {
  "kernelspec": {
   "display_name": "Python 2 with Spark 2.0",
   "language": "python",
   "name": "python2-spark20"
  },
  "language_info": {
   "codemirror_mode": {
    "name": "ipython",
    "version": 2
   },
   "file_extension": ".py",
   "mimetype": "text/x-python",
   "name": "python",
   "nbconvert_exporter": "python",
   "pygments_lexer": "ipython2",
   "version": "2.7.11"
  }
 },
 "nbformat": 4,
 "nbformat_minor": 0
}